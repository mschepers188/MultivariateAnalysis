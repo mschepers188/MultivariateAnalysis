{
 "cells": [
  {
   "cell_type": "code",
   "execution_count": 1,
   "id": "4d96972a",
   "metadata": {},
   "outputs": [],
   "source": [
    "import pandas as pd\n",
    "import sklearn.datasets\n",
    "from factor_analyzer import FactorAnalyzer\n",
    "import matplotlib.pyplot as plt"
   ]
  },
  {
   "cell_type": "code",
   "execution_count": 2,
   "id": "c9a20f15",
   "metadata": {},
   "outputs": [],
   "source": [
    "# import data\n",
    "df = pd.read_csv('bfi.csv')"
   ]
  },
  {
   "cell_type": "code",
   "execution_count": 3,
   "id": "c0ed600b",
   "metadata": {},
   "outputs": [
    {
     "data": {
      "text/plain": [
       "Index(['A1', 'A2', 'A3', 'A4', 'A5', 'C1', 'C2', 'C3', 'C4', 'C5', 'E1', 'E2',\n",
       "       'E3', 'E4', 'E5', 'N1', 'N2', 'N3', 'N4', 'N5', 'O1', 'O2', 'O3', 'O4',\n",
       "       'O5'],\n",
       "      dtype='object')"
      ]
     },
     "execution_count": 3,
     "metadata": {},
     "output_type": "execute_result"
    }
   ],
   "source": [
    "# Axis 1 is column, axis 0 is row\n",
    "df.drop(['Unnamed: 0', 'gender', 'education', 'age'], axis=1, inplace=True)\n",
    "df.dropna(inplace=True)\n",
    "df.columns"
   ]
  },
  {
   "cell_type": "code",
   "execution_count": 4,
   "id": "67781f5b",
   "metadata": {
    "scrolled": true
   },
   "outputs": [
    {
     "name": "stdout",
     "output_type": "stream",
     "text": [
      "<class 'pandas.core.frame.DataFrame'>\n",
      "Int64Index: 2436 entries, 0 to 2799\n",
      "Data columns (total 25 columns):\n",
      " #   Column  Non-Null Count  Dtype  \n",
      "---  ------  --------------  -----  \n",
      " 0   A1      2436 non-null   float64\n",
      " 1   A2      2436 non-null   float64\n",
      " 2   A3      2436 non-null   float64\n",
      " 3   A4      2436 non-null   float64\n",
      " 4   A5      2436 non-null   float64\n",
      " 5   C1      2436 non-null   float64\n",
      " 6   C2      2436 non-null   float64\n",
      " 7   C3      2436 non-null   float64\n",
      " 8   C4      2436 non-null   float64\n",
      " 9   C5      2436 non-null   float64\n",
      " 10  E1      2436 non-null   float64\n",
      " 11  E2      2436 non-null   float64\n",
      " 12  E3      2436 non-null   float64\n",
      " 13  E4      2436 non-null   float64\n",
      " 14  E5      2436 non-null   float64\n",
      " 15  N1      2436 non-null   float64\n",
      " 16  N2      2436 non-null   float64\n",
      " 17  N3      2436 non-null   float64\n",
      " 18  N4      2436 non-null   float64\n",
      " 19  N5      2436 non-null   float64\n",
      " 20  O1      2436 non-null   float64\n",
      " 21  O2      2436 non-null   int64  \n",
      " 22  O3      2436 non-null   float64\n",
      " 23  O4      2436 non-null   float64\n",
      " 24  O5      2436 non-null   float64\n",
      "dtypes: float64(24), int64(1)\n",
      "memory usage: 494.8 KB\n"
     ]
    }
   ],
   "source": [
    "df.info()"
   ]
  },
  {
   "cell_type": "code",
   "execution_count": 5,
   "id": "2232cb9d",
   "metadata": {},
   "outputs": [],
   "source": [
    "# Create factor analyzer project\n",
    "fa = FactorAnalyzer(n_factors=6, rotation='varimax')"
   ]
  },
  {
   "cell_type": "code",
   "execution_count": 6,
   "id": "4ac29348",
   "metadata": {},
   "outputs": [
    {
     "data": {
      "text/plain": [
       "FactorAnalyzer(n_factors=6, rotation='varimax', rotation_kwargs={})"
      ]
     },
     "execution_count": 6,
     "metadata": {},
     "output_type": "execute_result"
    }
   ],
   "source": [
    "fa.fit(df)"
   ]
  },
  {
   "cell_type": "code",
   "execution_count": 8,
   "id": "ab975e8b",
   "metadata": {},
   "outputs": [
    {
     "data": {
      "text/plain": [
       "array([[ 9.52197422e-02,  4.07831571e-02,  4.87338843e-02,\n",
       "        -5.30987346e-01, -1.13057329e-01,  1.61216349e-01],\n",
       "       [ 3.31312762e-02,  2.35538040e-01,  1.33714395e-01,\n",
       "         6.61140977e-01,  6.37337870e-02, -6.24353650e-03],\n",
       "       [-9.62088416e-03,  3.43008174e-01,  1.21353367e-01,\n",
       "         6.05932694e-01,  3.39902645e-02,  1.60106427e-01],\n",
       "       [-8.15175587e-02,  2.19716721e-01,  2.35139531e-01,\n",
       "         4.04594039e-01, -1.25338020e-01,  8.63557019e-02],\n",
       "       [-1.49615885e-01,  4.14457675e-01,  1.06382165e-01,\n",
       "         4.69698290e-01,  3.09765714e-02,  2.36519342e-01],\n",
       "       [-4.35840200e-03,  7.72477525e-02,  5.54582257e-01,\n",
       "         7.51069507e-03,  1.90123729e-01,  9.50350483e-02],\n",
       "       [ 6.83300837e-02,  3.83703845e-02,  6.74545450e-01,\n",
       "         5.70549873e-02,  8.75925906e-02,  1.52775080e-01],\n",
       "       [-3.99936734e-02,  3.18673007e-02,  5.51164438e-01,\n",
       "         1.01282241e-01, -1.13380873e-02,  8.99628298e-03],\n",
       "       [ 2.16283366e-01, -6.62407736e-02, -6.38475487e-01,\n",
       "        -1.02616941e-01, -1.43846476e-01,  3.18358895e-01],\n",
       "       [ 2.84187245e-01, -1.80811697e-01, -5.44837678e-01,\n",
       "        -5.99548222e-02,  2.58370942e-02,  1.32423447e-01],\n",
       "       [ 2.22797942e-02, -5.90450890e-01,  5.39149061e-02,\n",
       "        -1.30850531e-01, -7.12045797e-02,  1.56582657e-01],\n",
       "       [ 2.33623567e-01, -6.84577631e-01, -8.84970713e-02,\n",
       "        -1.16715665e-01, -4.55610414e-02,  1.15065403e-01],\n",
       "       [-8.95006268e-04,  5.56774181e-01,  1.03390347e-01,\n",
       "         1.79396479e-01,  2.41179902e-01,  2.67291316e-01],\n",
       "       [-1.36788076e-01,  6.58394907e-01,  1.13798005e-01,\n",
       "         2.41142960e-01, -1.07808204e-01,  1.58512850e-01],\n",
       "       [ 3.44895884e-02,  5.07535082e-01,  3.09812528e-01,\n",
       "         7.88042862e-02,  2.00821350e-01,  8.74730176e-03],\n",
       "       [ 8.05805939e-01,  6.80113029e-02, -5.12637874e-02,\n",
       "        -1.74849358e-01, -7.49771189e-02, -9.62661728e-02],\n",
       "       [ 7.89831685e-01,  2.29582930e-02, -3.74768700e-02,\n",
       "        -1.41134481e-01,  6.72646144e-03, -1.39822612e-01],\n",
       "       [ 7.25081218e-01, -6.56869334e-02, -5.90394376e-02,\n",
       "        -1.91838177e-02, -1.06635552e-02,  6.24953370e-02],\n",
       "       [ 5.78318850e-01, -3.45072324e-01, -1.62173861e-01,\n",
       "         4.03124499e-04,  6.29164826e-02,  1.47551244e-01],\n",
       "       [ 5.23097071e-01, -1.61675116e-01, -2.53049781e-02,\n",
       "         9.01247896e-02, -1.61891978e-01,  1.20049477e-01],\n",
       "       [-2.00040179e-02,  2.25338563e-01,  1.33200799e-01,\n",
       "         5.17793716e-03,  4.79477216e-01,  2.18689836e-01],\n",
       "       [ 1.56230108e-01, -1.98151980e-03, -8.60468497e-02,\n",
       "         4.39891062e-02, -4.96639674e-01,  1.34692971e-01],\n",
       "       [ 1.18510152e-02,  3.25954483e-01,  9.38796110e-02,\n",
       "         7.66416466e-02,  5.66128045e-01,  2.10777220e-01],\n",
       "       [ 2.07280572e-01, -1.77745713e-01, -5.67146624e-03,\n",
       "         1.33655572e-01,  3.49227137e-01,  1.78068370e-01],\n",
       "       [ 6.32343663e-02, -1.42210627e-02, -4.70592289e-02,\n",
       "        -5.75607781e-02, -5.76742635e-01,  1.35935870e-01]])"
      ]
     },
     "execution_count": 8,
     "metadata": {},
     "output_type": "execute_result"
    }
   ],
   "source": [
    "# Get the load\n",
    "loadings = fa.loadings_\n",
    "loadings"
   ]
  }
 ],
 "metadata": {
  "kernelspec": {
   "display_name": "Python 3 (ipykernel)",
   "language": "python",
   "name": "python3"
  },
  "language_info": {
   "codemirror_mode": {
    "name": "ipython",
    "version": 3
   },
   "file_extension": ".py",
   "mimetype": "text/x-python",
   "name": "python",
   "nbconvert_exporter": "python",
   "pygments_lexer": "ipython3",
   "version": "3.9.7"
  }
 },
 "nbformat": 4,
 "nbformat_minor": 5
}
