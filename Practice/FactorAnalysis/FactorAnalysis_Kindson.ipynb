{
 "cells": [
  {
   "cell_type": "code",
   "execution_count": 1,
   "id": "4d96972a",
   "metadata": {},
   "outputs": [],
   "source": [
    "import pandas as pd\n",
    "import sklearn.datasets\n",
    "from factor_analyzer import FactorAnalyzer\n",
    "import matplotlib.pyplot as plt"
   ]
  },
  {
   "cell_type": "code",
   "execution_count": 2,
   "id": "c9a20f15",
   "metadata": {},
   "outputs": [],
   "source": [
    "# import data\n",
    "df = pd.read_csv('bfi.csv')"
   ]
  },
  {
   "cell_type": "code",
   "execution_count": 3,
   "id": "c0ed600b",
   "metadata": {},
   "outputs": [
    {
     "data": {
      "text/plain": [
       "Index(['A1', 'A2', 'A3', 'A4', 'A5', 'C1', 'C2', 'C3', 'C4', 'C5', 'E1', 'E2',\n",
       "       'E3', 'E4', 'E5', 'N1', 'N2', 'N3', 'N4', 'N5', 'O1', 'O2', 'O3', 'O4',\n",
       "       'O5'],\n",
       "      dtype='object')"
      ]
     },
     "execution_count": 3,
     "metadata": {},
     "output_type": "execute_result"
    }
   ],
   "source": [
    "# Axis 1 is column, axis 0 is row\n",
    "df.drop(['Unnamed: 0', 'gender', 'education', 'age'], axis=1, inplace=True)\n",
    "df.dropna(inplace=True)\n",
    "df.columns"
   ]
  },
  {
   "cell_type": "code",
   "execution_count": 4,
   "id": "67781f5b",
   "metadata": {
    "scrolled": true
   },
   "outputs": [
    {
     "name": "stdout",
     "output_type": "stream",
     "text": [
      "<class 'pandas.core.frame.DataFrame'>\n",
      "Int64Index: 2436 entries, 0 to 2799\n",
      "Data columns (total 25 columns):\n",
      " #   Column  Non-Null Count  Dtype  \n",
      "---  ------  --------------  -----  \n",
      " 0   A1      2436 non-null   float64\n",
      " 1   A2      2436 non-null   float64\n",
      " 2   A3      2436 non-null   float64\n",
      " 3   A4      2436 non-null   float64\n",
      " 4   A5      2436 non-null   float64\n",
      " 5   C1      2436 non-null   float64\n",
      " 6   C2      2436 non-null   float64\n",
      " 7   C3      2436 non-null   float64\n",
      " 8   C4      2436 non-null   float64\n",
      " 9   C5      2436 non-null   float64\n",
      " 10  E1      2436 non-null   float64\n",
      " 11  E2      2436 non-null   float64\n",
      " 12  E3      2436 non-null   float64\n",
      " 13  E4      2436 non-null   float64\n",
      " 14  E5      2436 non-null   float64\n",
      " 15  N1      2436 non-null   float64\n",
      " 16  N2      2436 non-null   float64\n",
      " 17  N3      2436 non-null   float64\n",
      " 18  N4      2436 non-null   float64\n",
      " 19  N5      2436 non-null   float64\n",
      " 20  O1      2436 non-null   float64\n",
      " 21  O2      2436 non-null   int64  \n",
      " 22  O3      2436 non-null   float64\n",
      " 23  O4      2436 non-null   float64\n",
      " 24  O5      2436 non-null   float64\n",
      "dtypes: float64(24), int64(1)\n",
      "memory usage: 494.8 KB\n"
     ]
    }
   ],
   "source": [
    "df.info()"
   ]
  },
  {
   "cell_type": "code",
   "execution_count": 5,
   "id": "2232cb9d",
   "metadata": {},
   "outputs": [],
   "source": [
    "# Create factor analyzer project\n",
    "fa = FactorAnalyzer(n_factors=6, rotation='varimax')"
   ]
  },
  {
   "cell_type": "code",
   "execution_count": 6,
   "id": "4ac29348",
   "metadata": {},
   "outputs": [
    {
     "data": {
      "text/plain": [
       "FactorAnalyzer(n_factors=6, rotation='varimax', rotation_kwargs={})"
      ]
     },
     "execution_count": 6,
     "metadata": {},
     "output_type": "execute_result"
    }
   ],
   "source": [
    "fa.fit(df)"
   ]
  },
  {
   "cell_type": "code",
   "execution_count": 7,
   "id": "ab975e8b",
   "metadata": {},
   "outputs": [
    {
     "data": {
      "text/plain": [
       "array([[ 9.52197422e-02,  4.07831571e-02,  4.87338843e-02,\n",
       "        -5.30987346e-01, -1.13057329e-01,  1.61216349e-01],\n",
       "       [ 3.31312762e-02,  2.35538040e-01,  1.33714395e-01,\n",
       "         6.61140977e-01,  6.37337870e-02, -6.24353650e-03],\n",
       "       [-9.62088416e-03,  3.43008174e-01,  1.21353367e-01,\n",
       "         6.05932694e-01,  3.39902645e-02,  1.60106427e-01],\n",
       "       [-8.15175587e-02,  2.19716721e-01,  2.35139531e-01,\n",
       "         4.04594039e-01, -1.25338020e-01,  8.63557019e-02],\n",
       "       [-1.49615885e-01,  4.14457675e-01,  1.06382165e-01,\n",
       "         4.69698290e-01,  3.09765714e-02,  2.36519342e-01],\n",
       "       [-4.35840200e-03,  7.72477525e-02,  5.54582257e-01,\n",
       "         7.51069507e-03,  1.90123729e-01,  9.50350483e-02],\n",
       "       [ 6.83300837e-02,  3.83703845e-02,  6.74545450e-01,\n",
       "         5.70549873e-02,  8.75925906e-02,  1.52775080e-01],\n",
       "       [-3.99936734e-02,  3.18673007e-02,  5.51164438e-01,\n",
       "         1.01282241e-01, -1.13380873e-02,  8.99628298e-03],\n",
       "       [ 2.16283366e-01, -6.62407736e-02, -6.38475487e-01,\n",
       "        -1.02616941e-01, -1.43846476e-01,  3.18358895e-01],\n",
       "       [ 2.84187245e-01, -1.80811697e-01, -5.44837678e-01,\n",
       "        -5.99548222e-02,  2.58370942e-02,  1.32423447e-01],\n",
       "       [ 2.22797942e-02, -5.90450890e-01,  5.39149061e-02,\n",
       "        -1.30850531e-01, -7.12045797e-02,  1.56582657e-01],\n",
       "       [ 2.33623567e-01, -6.84577631e-01, -8.84970713e-02,\n",
       "        -1.16715665e-01, -4.55610414e-02,  1.15065403e-01],\n",
       "       [-8.95006268e-04,  5.56774181e-01,  1.03390347e-01,\n",
       "         1.79396479e-01,  2.41179902e-01,  2.67291316e-01],\n",
       "       [-1.36788076e-01,  6.58394907e-01,  1.13798005e-01,\n",
       "         2.41142960e-01, -1.07808204e-01,  1.58512850e-01],\n",
       "       [ 3.44895884e-02,  5.07535082e-01,  3.09812528e-01,\n",
       "         7.88042862e-02,  2.00821350e-01,  8.74730176e-03],\n",
       "       [ 8.05805939e-01,  6.80113029e-02, -5.12637874e-02,\n",
       "        -1.74849358e-01, -7.49771189e-02, -9.62661728e-02],\n",
       "       [ 7.89831685e-01,  2.29582930e-02, -3.74768700e-02,\n",
       "        -1.41134481e-01,  6.72646144e-03, -1.39822612e-01],\n",
       "       [ 7.25081218e-01, -6.56869334e-02, -5.90394376e-02,\n",
       "        -1.91838177e-02, -1.06635552e-02,  6.24953370e-02],\n",
       "       [ 5.78318850e-01, -3.45072324e-01, -1.62173861e-01,\n",
       "         4.03124499e-04,  6.29164826e-02,  1.47551244e-01],\n",
       "       [ 5.23097071e-01, -1.61675116e-01, -2.53049781e-02,\n",
       "         9.01247896e-02, -1.61891978e-01,  1.20049477e-01],\n",
       "       [-2.00040179e-02,  2.25338563e-01,  1.33200799e-01,\n",
       "         5.17793716e-03,  4.79477216e-01,  2.18689836e-01],\n",
       "       [ 1.56230108e-01, -1.98151980e-03, -8.60468497e-02,\n",
       "         4.39891062e-02, -4.96639674e-01,  1.34692971e-01],\n",
       "       [ 1.18510152e-02,  3.25954483e-01,  9.38796110e-02,\n",
       "         7.66416466e-02,  5.66128045e-01,  2.10777220e-01],\n",
       "       [ 2.07280572e-01, -1.77745713e-01, -5.67146624e-03,\n",
       "         1.33655572e-01,  3.49227137e-01,  1.78068370e-01],\n",
       "       [ 6.32343663e-02, -1.42210627e-02, -4.70592289e-02,\n",
       "        -5.75607781e-02, -5.76742635e-01,  1.35935870e-01]])"
      ]
     },
     "execution_count": 7,
     "metadata": {},
     "output_type": "execute_result"
    }
   ],
   "source": [
    "# Get the load\n",
    "loadings = fa.loadings_\n",
    "loadings"
   ]
  },
  {
   "cell_type": "code",
   "execution_count": 8,
   "id": "78661287",
   "metadata": {},
   "outputs": [],
   "source": [
    "ev, v = fa.get_eigenvalues()"
   ]
  },
  {
   "cell_type": "code",
   "execution_count": 9,
   "id": "fe8f859b",
   "metadata": {},
   "outputs": [],
   "source": [
    "xvals = range(1, df.shape[1]+1)"
   ]
  },
  {
   "cell_type": "code",
   "execution_count": 10,
   "id": "c8ad2d40",
   "metadata": {},
   "outputs": [
    {
     "data": {
      "image/png": "[encoded data removed]",
      "text/plain": [
       "<Figure size 432x288 with 1 Axes>"
      ]
     },
     "metadata": {
      "needs_background": "light"
     },
     "output_type": "display_data"
    }
   ],
   "source": [
    "plt.scatter(xvals, ev, label='eigenvalues')\n",
    "plt.plot(xvals, v, label='eigenvectors')\n",
    "plt.title('Scree plot')\n",
    "plt.xlabel('Factor')\n",
    "plt.xlabel('Eigenvalue')\n",
    "plt.legend()\n",
    "plt.grid()\n",
    "plt.show()"
   ]
  },
  {
   "cell_type": "markdown",
   "id": "a312dd90",
   "metadata": {},
   "source": [
    "The 6th first components seem to be the most relevant in the data. 7+ seems to become more 'horizontal' meaning it does not affect the data as greatly."
   ]
  },
  {
   "cell_type": "code",
   "execution_count": 11,
   "id": "ab1f1d58",
   "metadata": {},
   "outputs": [
    {
     "data": {
      "text/html": [
       "<div>\n",
       "<style scoped>\n",
       "    .dataframe tbody tr th:only-of-type {\n",
       "        vertical-align: middle;\n",
       "    }\n",
       "\n",
       "    .dataframe tbody tr th {\n",
       "        vertical-align: top;\n",
       "    }\n",
       "\n",
       "    .dataframe thead th {\n",
       "        text-align: right;\n",
       "    }\n",
       "</style>\n",
       "<table border=\"1\" class=\"dataframe\">\n",
       "  <thead>\n",
       "    <tr style=\"text-align: right;\">\n",
       "      <th></th>\n",
       "      <th>0</th>\n",
       "      <th>1</th>\n",
       "      <th>2</th>\n",
       "      <th>3</th>\n",
       "      <th>4</th>\n",
       "      <th>5</th>\n",
       "    </tr>\n",
       "  </thead>\n",
       "  <tbody>\n",
       "    <tr>\n",
       "      <th>0</th>\n",
       "      <td>0.095220</td>\n",
       "      <td>0.040783</td>\n",
       "      <td>0.048734</td>\n",
       "      <td>-0.530987</td>\n",
       "      <td>-0.113057</td>\n",
       "      <td>0.161216</td>\n",
       "    </tr>\n",
       "    <tr>\n",
       "      <th>1</th>\n",
       "      <td>0.033131</td>\n",
       "      <td>0.235538</td>\n",
       "      <td>0.133714</td>\n",
       "      <td>0.661141</td>\n",
       "      <td>0.063734</td>\n",
       "      <td>-0.006244</td>\n",
       "    </tr>\n",
       "    <tr>\n",
       "      <th>2</th>\n",
       "      <td>-0.009621</td>\n",
       "      <td>0.343008</td>\n",
       "      <td>0.121353</td>\n",
       "      <td>0.605933</td>\n",
       "      <td>0.033990</td>\n",
       "      <td>0.160106</td>\n",
       "    </tr>\n",
       "    <tr>\n",
       "      <th>3</th>\n",
       "      <td>-0.081518</td>\n",
       "      <td>0.219717</td>\n",
       "      <td>0.235140</td>\n",
       "      <td>0.404594</td>\n",
       "      <td>-0.125338</td>\n",
       "      <td>0.086356</td>\n",
       "    </tr>\n",
       "    <tr>\n",
       "      <th>4</th>\n",
       "      <td>-0.149616</td>\n",
       "      <td>0.414458</td>\n",
       "      <td>0.106382</td>\n",
       "      <td>0.469698</td>\n",
       "      <td>0.030977</td>\n",
       "      <td>0.236519</td>\n",
       "    </tr>\n",
       "    <tr>\n",
       "      <th>5</th>\n",
       "      <td>-0.004358</td>\n",
       "      <td>0.077248</td>\n",
       "      <td>0.554582</td>\n",
       "      <td>0.007511</td>\n",
       "      <td>0.190124</td>\n",
       "      <td>0.095035</td>\n",
       "    </tr>\n",
       "    <tr>\n",
       "      <th>6</th>\n",
       "      <td>0.068330</td>\n",
       "      <td>0.038370</td>\n",
       "      <td>0.674545</td>\n",
       "      <td>0.057055</td>\n",
       "      <td>0.087593</td>\n",
       "      <td>0.152775</td>\n",
       "    </tr>\n",
       "    <tr>\n",
       "      <th>7</th>\n",
       "      <td>-0.039994</td>\n",
       "      <td>0.031867</td>\n",
       "      <td>0.551164</td>\n",
       "      <td>0.101282</td>\n",
       "      <td>-0.011338</td>\n",
       "      <td>0.008996</td>\n",
       "    </tr>\n",
       "    <tr>\n",
       "      <th>8</th>\n",
       "      <td>0.216283</td>\n",
       "      <td>-0.066241</td>\n",
       "      <td>-0.638475</td>\n",
       "      <td>-0.102617</td>\n",
       "      <td>-0.143846</td>\n",
       "      <td>0.318359</td>\n",
       "    </tr>\n",
       "    <tr>\n",
       "      <th>9</th>\n",
       "      <td>0.284187</td>\n",
       "      <td>-0.180812</td>\n",
       "      <td>-0.544838</td>\n",
       "      <td>-0.059955</td>\n",
       "      <td>0.025837</td>\n",
       "      <td>0.132423</td>\n",
       "    </tr>\n",
       "    <tr>\n",
       "      <th>10</th>\n",
       "      <td>0.022280</td>\n",
       "      <td>-0.590451</td>\n",
       "      <td>0.053915</td>\n",
       "      <td>-0.130851</td>\n",
       "      <td>-0.071205</td>\n",
       "      <td>0.156583</td>\n",
       "    </tr>\n",
       "    <tr>\n",
       "      <th>11</th>\n",
       "      <td>0.233624</td>\n",
       "      <td>-0.684578</td>\n",
       "      <td>-0.088497</td>\n",
       "      <td>-0.116716</td>\n",
       "      <td>-0.045561</td>\n",
       "      <td>0.115065</td>\n",
       "    </tr>\n",
       "    <tr>\n",
       "      <th>12</th>\n",
       "      <td>-0.000895</td>\n",
       "      <td>0.556774</td>\n",
       "      <td>0.103390</td>\n",
       "      <td>0.179396</td>\n",
       "      <td>0.241180</td>\n",
       "      <td>0.267291</td>\n",
       "    </tr>\n",
       "    <tr>\n",
       "      <th>13</th>\n",
       "      <td>-0.136788</td>\n",
       "      <td>0.658395</td>\n",
       "      <td>0.113798</td>\n",
       "      <td>0.241143</td>\n",
       "      <td>-0.107808</td>\n",
       "      <td>0.158513</td>\n",
       "    </tr>\n",
       "    <tr>\n",
       "      <th>14</th>\n",
       "      <td>0.034490</td>\n",
       "      <td>0.507535</td>\n",
       "      <td>0.309813</td>\n",
       "      <td>0.078804</td>\n",
       "      <td>0.200821</td>\n",
       "      <td>0.008747</td>\n",
       "    </tr>\n",
       "    <tr>\n",
       "      <th>15</th>\n",
       "      <td>0.805806</td>\n",
       "      <td>0.068011</td>\n",
       "      <td>-0.051264</td>\n",
       "      <td>-0.174849</td>\n",
       "      <td>-0.074977</td>\n",
       "      <td>-0.096266</td>\n",
       "    </tr>\n",
       "    <tr>\n",
       "      <th>16</th>\n",
       "      <td>0.789832</td>\n",
       "      <td>0.022958</td>\n",
       "      <td>-0.037477</td>\n",
       "      <td>-0.141134</td>\n",
       "      <td>0.006726</td>\n",
       "      <td>-0.139823</td>\n",
       "    </tr>\n",
       "    <tr>\n",
       "      <th>17</th>\n",
       "      <td>0.725081</td>\n",
       "      <td>-0.065687</td>\n",
       "      <td>-0.059039</td>\n",
       "      <td>-0.019184</td>\n",
       "      <td>-0.010664</td>\n",
       "      <td>0.062495</td>\n",
       "    </tr>\n",
       "    <tr>\n",
       "      <th>18</th>\n",
       "      <td>0.578319</td>\n",
       "      <td>-0.345072</td>\n",
       "      <td>-0.162174</td>\n",
       "      <td>0.000403</td>\n",
       "      <td>0.062916</td>\n",
       "      <td>0.147551</td>\n",
       "    </tr>\n",
       "    <tr>\n",
       "      <th>19</th>\n",
       "      <td>0.523097</td>\n",
       "      <td>-0.161675</td>\n",
       "      <td>-0.025305</td>\n",
       "      <td>0.090125</td>\n",
       "      <td>-0.161892</td>\n",
       "      <td>0.120049</td>\n",
       "    </tr>\n",
       "    <tr>\n",
       "      <th>20</th>\n",
       "      <td>-0.020004</td>\n",
       "      <td>0.225339</td>\n",
       "      <td>0.133201</td>\n",
       "      <td>0.005178</td>\n",
       "      <td>0.479477</td>\n",
       "      <td>0.218690</td>\n",
       "    </tr>\n",
       "    <tr>\n",
       "      <th>21</th>\n",
       "      <td>0.156230</td>\n",
       "      <td>-0.001982</td>\n",
       "      <td>-0.086047</td>\n",
       "      <td>0.043989</td>\n",
       "      <td>-0.496640</td>\n",
       "      <td>0.134693</td>\n",
       "    </tr>\n",
       "    <tr>\n",
       "      <th>22</th>\n",
       "      <td>0.011851</td>\n",
       "      <td>0.325954</td>\n",
       "      <td>0.093880</td>\n",
       "      <td>0.076642</td>\n",
       "      <td>0.566128</td>\n",
       "      <td>0.210777</td>\n",
       "    </tr>\n",
       "    <tr>\n",
       "      <th>23</th>\n",
       "      <td>0.207281</td>\n",
       "      <td>-0.177746</td>\n",
       "      <td>-0.005671</td>\n",
       "      <td>0.133656</td>\n",
       "      <td>0.349227</td>\n",
       "      <td>0.178068</td>\n",
       "    </tr>\n",
       "    <tr>\n",
       "      <th>24</th>\n",
       "      <td>0.063234</td>\n",
       "      <td>-0.014221</td>\n",
       "      <td>-0.047059</td>\n",
       "      <td>-0.057561</td>\n",
       "      <td>-0.576743</td>\n",
       "      <td>0.135936</td>\n",
       "    </tr>\n",
       "  </tbody>\n",
       "</table>\n",
       "</div>"
      ],
      "text/plain": [
       "           0         1         2         3         4         5\n",
       "0   0.095220  0.040783  0.048734 -0.530987 -0.113057  0.161216\n",
       "1   0.033131  0.235538  0.133714  0.661141  0.063734 -0.006244\n",
       "2  -0.009621  0.343008  0.121353  0.605933  0.033990  0.160106\n",
       "3  -0.081518  0.219717  0.235140  0.404594 -0.125338  0.086356\n",
       "4  -0.149616  0.414458  0.106382  0.469698  0.030977  0.236519\n",
       "5  -0.004358  0.077248  0.554582  0.007511  0.190124  0.095035\n",
       "6   0.068330  0.038370  0.674545  0.057055  0.087593  0.152775\n",
       "7  -0.039994  0.031867  0.551164  0.101282 -0.011338  0.008996\n",
       "8   0.216283 -0.066241 -0.638475 -0.102617 -0.143846  0.318359\n",
       "9   0.284187 -0.180812 -0.544838 -0.059955  0.025837  0.132423\n",
       "10  0.022280 -0.590451  0.053915 -0.130851 -0.071205  0.156583\n",
       "11  0.233624 -0.684578 -0.088497 -0.116716 -0.045561  0.115065\n",
       "12 -0.000895  0.556774  0.103390  0.179396  0.241180  0.267291\n",
       "13 -0.136788  0.658395  0.113798  0.241143 -0.107808  0.158513\n",
       "14  0.034490  0.507535  0.309813  0.078804  0.200821  0.008747\n",
       "15  0.805806  0.068011 -0.051264 -0.174849 -0.074977 -0.096266\n",
       "16  0.789832  0.022958 -0.037477 -0.141134  0.006726 -0.139823\n",
       "17  0.725081 -0.065687 -0.059039 -0.019184 -0.010664  0.062495\n",
       "18  0.578319 -0.345072 -0.162174  0.000403  0.062916  0.147551\n",
       "19  0.523097 -0.161675 -0.025305  0.090125 -0.161892  0.120049\n",
       "20 -0.020004  0.225339  0.133201  0.005178  0.479477  0.218690\n",
       "21  0.156230 -0.001982 -0.086047  0.043989 -0.496640  0.134693\n",
       "22  0.011851  0.325954  0.093880  0.076642  0.566128  0.210777\n",
       "23  0.207281 -0.177746 -0.005671  0.133656  0.349227  0.178068\n",
       "24  0.063234 -0.014221 -0.047059 -0.057561 -0.576743  0.135936"
      ]
     },
     "execution_count": 11,
     "metadata": {},
     "output_type": "execute_result"
    }
   ],
   "source": [
    "pd.DataFrame.from_records(loadings)"
   ]
  },
  {
   "cell_type": "code",
   "execution_count": 12,
   "id": "12be0054",
   "metadata": {},
   "outputs": [],
   "source": [
    "# Get eigenvectors and eigenvalues\n",
    "ev, v = fa.get_eigenvalues()\n",
    "# Make a scree plot\n",
    "xvals = range(1, df.shape[1]+1)"
   ]
  },
  {
   "cell_type": "code",
   "execution_count": 13,
   "id": "53c55df4",
   "metadata": {},
   "outputs": [
    {
     "data": {
      "image/png": "[encoded data removed]",
      "text/plain": [
       "<Figure size 432x288 with 1 Axes>"
      ]
     },
     "metadata": {
      "needs_background": "light"
     },
     "output_type": "display_data"
    }
   ],
   "source": [
    "plt.scatter(xvals, ev)\n",
    "plt.plot(xvals, ev)\n",
    "plt.title('Scree plot')\n",
    "plt.xlabel('Factors')\n",
    "plt.ylabel('Eigenvalue')\n",
    "plt.grid()\n",
    "plt.show()"
   ]
  },
  {
   "cell_type": "code",
   "execution_count": 14,
   "id": "71dfd7fb",
   "metadata": {},
   "outputs": [
    {
     "ename": "AttributeError",
     "evalue": "'FactorAnalyzer' object has no attribute 'analyze'",
     "output_type": "error",
     "traceback": [
      "\u001b[1;31m---------------------------------------------------------------------------\u001b[0m",
      "\u001b[1;31mAttributeError\u001b[0m                            Traceback (most recent call last)",
      "\u001b[1;32mC:\\Users\\MARTIN~1\\AppData\\Local\\Temp/ipykernel_4068/3901257740.py\u001b[0m in \u001b[0;36m<module>\u001b[1;34m\u001b[0m\n\u001b[0;32m      3\u001b[0m \u001b[1;31m# Create factor analysis object and perform factor analysis\u001b[0m\u001b[1;33m\u001b[0m\u001b[1;33m\u001b[0m\u001b[0m\n\u001b[0;32m      4\u001b[0m \u001b[0mfa\u001b[0m \u001b[1;33m=\u001b[0m \u001b[0mFactorAnalyzer\u001b[0m\u001b[1;33m(\u001b[0m\u001b[1;33m)\u001b[0m\u001b[1;33m\u001b[0m\u001b[1;33m\u001b[0m\u001b[0m\n\u001b[1;32m----> 5\u001b[1;33m \u001b[0mfa\u001b[0m\u001b[1;33m.\u001b[0m\u001b[0manalyze\u001b[0m\u001b[1;33m(\u001b[0m\u001b[0mdf\u001b[0m\u001b[1;33m,\u001b[0m \u001b[1;36m6\u001b[0m\u001b[1;33m,\u001b[0m \u001b[0mrotation\u001b[0m\u001b[1;33m=\u001b[0m\u001b[1;34m\"varimax\"\u001b[0m\u001b[1;33m)\u001b[0m\u001b[1;33m\u001b[0m\u001b[1;33m\u001b[0m\u001b[0m\n\u001b[0m",
      "\u001b[1;31mAttributeError\u001b[0m: 'FactorAnalyzer' object has no attribute 'analyze'"
     ]
    }
   ],
   "source": [
    "# Here, you can see only for 6-factors eigenvalues are greater than one. \n",
    "# It means we need to choose only 6 factors (or unobserved variables).\n",
    "# Create factor analysis object and perform factor analysis\n",
    "fa = FactorAnalyzer()\n",
    "fa.analyze(df, 6, rotation=\"varimax\")"
   ]
  }
 ],
 "metadata": {
  "kernelspec": {
   "display_name": "Python 3 (ipykernel)",
   "language": "python",
   "name": "python3"
  },
  "language_info": {
   "codemirror_mode": {
    "name": "ipython",
    "version": 3
   },
   "file_extension": ".py",
   "mimetype": "text/x-python",
   "name": "python",
   "nbconvert_exporter": "python",
   "pygments_lexer": "ipython3",
   "version": "3.9.7"
  }
 },
 "nbformat": 4,
 "nbformat_minor": 5
}
