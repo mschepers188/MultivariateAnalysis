{
 "cells": [
  {
   "cell_type": "markdown",
   "metadata": {},
   "source": [
    "# Methods of Component Analysis"
   ]
  },
  {
   "cell_type": "markdown",
   "metadata": {},
   "source": [
    "## Univariate analysis: observations, data types, location and spread\n",
    "\n",
    "- Observations\n",
    "- Measurements\n",
    "- Data types\n",
    "  - characteristic\n",
    "    - numerical\n",
    "      - integer\n",
    "      - decimal\n",
    "    - categorical\n",
    "      - nominal\n",
    "      - dichotomous\n",
    "      - ordinal\n",
    "  - relational\n",
    "    - similarity\n",
    "    - separation\n",
    "    - connectivity\n",
    "- Distribution\n",
    "  - uniform\n",
    "  - normal\n",
    "  - $\\chi^2$\n",
    "  - F\n",
    "  - ...\n",
    "- Location\n",
    "  - Median\n",
    "  - Mean\n",
    "- Spread\n",
    "  - Quantiles/quartiles\n",
    "  - IQR\n",
    "  - Standard deviation\n",
    "  - Variance\n",
    "- Distribution (higher) moments\n",
    "  - skew\n",
    "  - kurtosis\n",
    "  - ...\n",
    "- Sampling\n",
    "  - (un)biased\n",
    "\n",
    "\n",
    "#### The median\n",
    "\n",
    "The median is the middle of the distribution. It is the value where 50% of the measurements lie below that value and 50% lie above. In the case of an uneven number of observations, one of the observations *is* the median, while in the case of an even number of observations, the median lies in between. The median can be calculate as"
   ]
  },
  {
   "cell_type": "code",
   "execution_count": 9,
   "metadata": {},
   "outputs": [
    {
     "name": "stdout",
     "output_type": "stream",
     "text": [
      "[2, 2, 3, 3, 3, 4, 4, 4, 5, 5, 6, 6, 6, 6, 7, 7, 7, 8, 8, 8, 9, 9]\n",
      "6.0\n"
     ]
    }
   ],
   "source": [
    "observations = [4,6,3,6,4,7,8,9,8,4,2,3,6,7,5,3,2,7,8,9,6,5]\n",
    "observations.sort()\n",
    "\n",
    "n = len(observations)\n",
    "median = (observations[(n-1) // 2] + observations[n // 2]) / 2\n",
    "    \n",
    "print(observations)\n",
    "print(median)"
   ]
  },
  {
   "cell_type": "markdown",
   "metadata": {},
   "source": [
    "#### The mean\n",
    "\n",
    "The sample mean is the sum of the measurements divided by the number of them:\n",
    "\n",
    "$$\n",
    "\\bar{x} = \\frac{1}{n} \\sum_{i=1}^n x_i\n",
    "$$\n",
    "\n",
    "The population mean $\\mu$ is the sum of every value possible as measurement times the probability that that value is observed:\n",
    "\n",
    "$$\n",
    "\\mu = \\int_{-\\infty}^{\\infty} x p(x) dx\n",
    "$$\n",
    "\n",
    "The mean is the center of the distribution in the way that subtracting this value from all measurements, the sum of the negative values and the positive values will come to exactly zero. If you were to take a stick (without mass) and mark every measurement with a weight, then the mean would be the balancing point. Alternatively, if you connect a rubber band to each data point, and hold all rubber bands, then the mean is the point you'll end up, being pulled equally to the positive and the negative side."
   ]
  },
  {
   "cell_type": "code",
   "execution_count": 12,
   "metadata": {},
   "outputs": [
    {
     "name": "stdout",
     "output_type": "stream",
     "text": [
      "Mean: 5.545454545454546\n",
      "Negative deviations: -20.454545454545464\n",
      "Positive deviations: 20.454545454545446\n"
     ]
    }
   ],
   "source": [
    "mean = sum(observations) / len(observations)\n",
    "\n",
    "deviations = [ x_i - mean for x_i in observations ]\n",
    "\n",
    "print(\"Mean:\", mean)\n",
    "print(\"Negative deviations:\", sum(d_i for d_i in deviations if d_i < 0))\n",
    "print(\"Positive deviations:\", sum(d_i for d_i in deviations if d_i > 0))\n"
   ]
  },
  {
   "cell_type": "markdown",
   "metadata": {},
   "source": [
    "#### The standard deviation\n",
    "\n",
    "The standard deviation is the mean deviation from the mean and is an important measure for spread. For a sample it is given as:\n",
    "\n",
    "$$\n",
    "s = \\sqrt{\\frac{1}{n-1} \\sum_{i=1}^{n} (x_i - \\bar{x})^2}\n",
    "$$\n",
    "\n",
    "The population standard deviation is usually written as $\\sigma$ and can be written as a sum over the entire domain using probabilities, just like the population mean:\n",
    "\n",
    "$$\n",
    "\\sigma = \\sqrt{ \\int_{-\\infty}^{\\infty} (x-\\mu)^2p(x)dx }\n",
    "$$\n",
    "\n",
    "If we consider a setting with a rubber band connected to each measurement, and being pulled to the mean value, then the standard deviation is a way of expressing the average length of each rubber band. However, it may be more convenient to think of the standard deviation as merely the square root of the *variance*, which is more important in (multivariate) analysis."
   ]
  },
  {
   "cell_type": "code",
   "execution_count": 15,
   "metadata": {},
   "outputs": [
    {
     "name": "stdout",
     "output_type": "stream",
     "text": [
      "2.197991999796367\n"
     ]
    }
   ],
   "source": [
    "mean = (1/n) * sum(observations)\n",
    "standard_deviation = ( (1/(n-1)) * sum((x_i - mean)**2 for x_i in observations))**0.5\n",
    "\n",
    "print(standard_deviation)"
   ]
  },
  {
   "cell_type": "markdown",
   "metadata": {},
   "source": [
    "#### The variance\n",
    "\n",
    "The variance is the square of the standard deviation. It is the so-called second central moment of the distribution and for a sample is calculated as (see its appearance in the square root above):\n",
    "\n",
    "$$\n",
    "s^2 = \\frac{1}{n-1} \\sum_{i=1}^{n} (x_i - \\bar{x})^2\n",
    "$$\n",
    "\n",
    "The population variance, accordingly, is given as\n",
    "\n",
    "$$\n",
    "\\sigma^2 = \\int_{-\\infty}^{\\infty} (x-\\mu)^2p(x)dx \n",
    "$$\n",
    "\n",
    "The variance is an important measure of spread, but may come less intuitive at first. This is where the rubber bands analogy becomes really useful. Note that a rubber band responds to stretching with a force. This force is related to the tension, and this tension builds up with the square of the length. That is known as Hooke's Law, because it was discovered by Robert Hooke. So if we have a number of points and rubber bands attached to them, these rubber bands pull us the position of the mean, where the forces to either side are balanced. The rubber bands are still stretched, though, and we can talk about the tension. The total tension is the sum of the tensions of all individual rubber bands, and the mean tension is ... the variance.\n",
    "\n",
    "Within the context of the standard deviation, we did not mention dividing by $n-1$ in stead of $n$. These are called the *degrees of freedom* or 'the number of pieces of information still in the data'. Note that the $n-1$ is only there for the *sample* variance, and not for the *population* variance. In fact, if we were to know the population mean, then we would also use $n$ and not $n-1$ to calculate the variance. The difference is knowing the mean or having to estimate it from the data first. If that is the case, it will cost us one unit of information, so after that, the data will have only $n-1$ pieces of data left for the estimation of the second moment. "
   ]
  },
  {
   "cell_type": "code",
   "execution_count": 16,
   "metadata": {},
   "outputs": [
    {
     "name": "stdout",
     "output_type": "stream",
     "text": [
      "4.831168831168833\n"
     ]
    }
   ],
   "source": [
    "mean = (1/n) * sum(observations)\n",
    "variance = (1/(n-1)) * sum((x_i - mean)**2 for x_i in observations)\n",
    "\n",
    "print(variance)"
   ]
  },
  {
   "cell_type": "markdown",
   "metadata": {},
   "source": [
    "## Linear algebra\n",
    "\n",
    "### Vectors\n",
    "\n",
    "A vector is an ordered set of numbers: each number is accessible by its position or *index*. It may be noted that this is quite the same as a list in Python or a one-dimensional array in quite any computer language. The term vector is typically taken to mean a *column*-vector, unless specified otherwise. This means that the numbers are represented as a stack, with index $1$ at the top and the $n$th index at the bottom. Dots are typically used to avoid explicitly writing all the elements in between\n",
    "\n",
    "\n",
    "Multiple observations: \n",
    "$$ x_1 \\ldots x_n $$\n",
    "\n",
    "Observation vector: \n",
    "$$ {\\bf{x}} = \\begin{pmatrix} x_1 \\\\ \\vdots \\\\ x_n \\end{pmatrix} $$\n",
    "\n",
    "Transposed: \n",
    "$$ {\\bf{x}}^T = \\begin{pmatrix} x_1 & \\ldots & x_n \\end{pmatrix} $$\n",
    "\n",
    "Inner product: \n",
    "$$ {\\bf{x}}^T {\\bf{x}} = x_1^2 + \\ldots + x_n^2 = \\sum_{i=1}^{n} x_i^2 $$\n",
    "\n",
    "Mean:\n",
    "$$ \\bar{x} = \\frac{1}{n} {\\bf{1}}^T {\\bf{x}} = \n",
    "\\frac{1}{n} \\begin{pmatrix} 1 & \\ldots & 1 \\end{pmatrix} {\\bf{x}} =\n",
    "\\frac{1}{n} \\sum_{i=1}^n 1x_i = ({\\bf{1}}^T {\\bf{1}})^{-1} {\\bf{1}}^T {\\bf{x}} $$\n",
    "\n",
    "Variance:\n",
    "$$ s_x^2 = "
   ]
  },
  {
   "cell_type": "markdown",
   "metadata": {},
   "source": [
    "## Two variables: covariance, correlation and regression\n",
    "\n",
    "\n",
    "\n",
    "- Coupled measurements\n",
    "- Location\n",
    "- Spread\n",
    "- Relation\n",
    "  - Covariance\n",
    "  - Correlation\n",
    "  - Regression\n",
    "\n",
    "The first step in multivariate analysis is considering that multiple measurements are done for each observation. An observation can still be anything, provided that it is defined clearly. \n",
    "\n",
    "\n",
    "\n",
    "Consider two variables $x$ and $y$ with means $\\mu_x$ and $\\mu_y$ and standard deviations $\\sigma_x$ and $\\sigma_y$. \n",
    "\n",
    "\n",
    "#### Covariance\n",
    "\n",
    "Covariance is a measure for how *much* one variable varies with another one (in a linear sense).\n",
    "\n",
    "#### Correlation\n",
    "\n",
    "Correlation is a measure for how *strongly* one variable varies with another, or, in other words, how much information one variable gives about the other one.\n",
    "\n",
    "#### Linear regression\n",
    "\n",
    "Linear regression is aimed at finding the linear relationship that best predicts one variable given the values of another. The variable that is predicted is called the dependent variable, the response or the regressand. The one used to predict is the independent variable, the input, or the regressor. In the case of a single input, this is sometimes called *simple linear regression*.\n",
    "\n",
    "##### When to use\n",
    "\n",
    "The use cases for linear regression are 1. prediction of variables from other variables that are more easily obtained, and 2. to test if two variables are linearly related\n",
    "\n",
    "##### The model\n",
    "\n",
    "The model is written with the $i$th response on the left hand side (LHS) as a function of the intercept $a$, the slope $b$ and the $i$th input $x_i$. The right hand side also contains a term $\\epsilon_i$ that captures the deviation of the response from the model. The solution in $a$ and $b$ requires that the sum of the deviations is 0 and that the variance of the deviations is as small as possible, i.e. the solution having the least sum-of-squares of deviations.\n",
    "\n",
    "$$\n",
    "y_i = a + b x_i + \\epsilon_i\n",
    "$$\n",
    "\n",
    "##### Solving the model\n",
    "\n",
    "To solve this model, first note that 1. the intercept depends on the location of the data, but 2. the slope does not. This means that centering the data by subtracting the means from $x$ and $y$ gives an equation in which the intercept is zero:\n",
    "\n",
    "$$\n",
    "y_i^* = b x_i^* + \\epsilon_i\n",
    "$$\n",
    "\n",
    "Dividing by $x_i$ would give $b$ if it wasn't for $\\epsilon_i$. Of course we also have multiple values, and we want to use all of them. Using some linear algebra we can easily solve this *and* understand how the solution deals with the error terms. We begin with writing the equation in its vector form (for the centered values):\n",
    "\n",
    "$$\n",
    "{\\bf{y}} =\n",
    "\\begin{pmatrix} y_1 \\\\ \\vdots \\\\ y_n \\end{pmatrix} = \n",
    "b {\\bf{x}} + {\\bf{\\epsilon}} =\n",
    "b \\begin{pmatrix} x_1 \\\\ \\vdots \\\\ x_n \\end{pmatrix} +\n",
    "\\begin{pmatrix} \\epsilon_1 \\\\ \\vdots \\\\ \\epsilon_n \\end{pmatrix}\n",
    "$$\n",
    "\n",
    "Now we first subtract the error vector from both sides:\n",
    "\n",
    "$$\n",
    "{\\bf{y}} - {\\bf{\\epsilon}} = b {\\bf{x}}\n",
    "$$\n",
    "\n",
    "We can't divide by the vector $\\bf{x}$, but we can multiply both sides with the transpose of it:\n",
    "\n",
    "$$\n",
    "{\\bf{x}}^T{\\bf{y}} - {\\bf{x}}^T{\\bf{\\epsilon}} = b {\\bf{x}}^T{\\bf{x}}\n",
    "$$\n",
    "\n",
    "Like this, because of the dot products, we get a scalar equation, i.e. an equation with only regular numbers and no vectors. But look closely: because the variables were centered, the first term ${\\bf{x}}^T{\\bf{y}}$ is equal to the covariance between $x$ and $y$ and the last one is the variance of $x$. Likewise, the middle term is the covariance between $x$ and $\\epsilon$. However, $\\epsilon$ is a random error and must have zero correlation, and thus a covariance of zero, with $x$! It drops from the equation, and dividing by the variance of $x$ gives the expression for the slope $b$:\n",
    "\n",
    "$$\n",
    "b = ({\\bf{x}}^T{\\bf{x}})^{-1} {\\bf{x}}^T{\\bf{y}} = \\frac{\\text{cov}(x,y)}{\\text{var}(x)}\n",
    "$$\n",
    "\n",
    "##### Solving with the slope included\n",
    "\n",
    "In statistical texts on regression, the slope is typically determined first on the centered data and then the intercept is solved for. However, with linear algebra, it becomes trivial to solve both simultaneously. We write \n",
    "\n",
    "$$\n",
    "{\\bf{y}} = a {\\bf{1}} + b {\\bf{x}} + {\\bf{\\epsilon}} = \n",
    "\\begin{pmatrix} {\\bf{1}} & {\\bf{x}} \\end{pmatrix}\n",
    "\\begin{pmatrix} a \\\\ b \\end{pmatrix} + {\\bf{\\epsilon}}\n",
    "$$\n",
    "\n",
    "and from there come through\n",
    "\n",
    "$$\n",
    "\\begin{pmatrix} {\\bf{1}}^T \\\\ {\\bf{x}}^T \\end{pmatrix}{\\bf{y}} = \n",
    "\\begin{pmatrix} {\\bf{1}}^T \\\\ {\\bf{x}}^T \\end{pmatrix}\\begin{pmatrix} {\\bf{1}} & {\\bf{x}} \\end{pmatrix}\n",
    "\\begin{pmatrix} a \\\\ b \\end{pmatrix} =\n",
    "\\begin{pmatrix} \n",
    "{\\bf{1}}^T{\\bf{1}} & {\\bf{1}}^T{\\bf{x}} \\\\ \n",
    "{\\bf{x}}^T{\\bf{1}} & {\\bf{x}}^T{\\bf{x}} \\\\ \n",
    "\\end{pmatrix} \n",
    "\\begin{pmatrix} a \\\\ b \\end{pmatrix}\n",
    "$$\n",
    "\n",
    "to\n",
    "\n",
    "$$\n",
    "\\begin{pmatrix} a \\\\ b \\end{pmatrix} =\n",
    "\\begin{pmatrix} \n",
    "{\\bf{1}}^T{\\bf{1}} & {\\bf{1}}^T{\\bf{x}} \\\\ \n",
    "{\\bf{x}}^T{\\bf{1}} & {\\bf{x}}^T{\\bf{x}} \\\\ \n",
    "\\end{pmatrix}^{-1} \n",
    "\\begin{pmatrix} {\\bf{1}}^T {\\bf{y}} \\\\ {\\bf{x}}^T {\\bf{y}} \\end{pmatrix}\n",
    "$$\n",
    "\n"
   ]
  },
  {
   "cell_type": "markdown",
   "metadata": {},
   "source": [
    "## Multilinear regression\n",
    "\n",
    "https://en.wikipedia.org/wiki/Linear_regression (_Note that the Wikipedia page just calls this_ linear regression, _while the case of one independent variable is called_ simple linear regression.)\n",
    "\n",
    "In multilinear regression, there is one response ($y$) that is predicted using several input variables ($x_1$ through $x_k$):\n",
    "\n",
    "$$\n",
    "y_i = a + b_1 x_{1i} + \\ldots + b_k x_{ki} + \\epsilon_i \n",
    "$$\n",
    "\n",
    "$$\n",
    "{\\bf{y}} = \n",
    "\\begin{pmatrix} {\\bf{1}} & {\\bf{X}} \\end{pmatrix} \n",
    "\\begin{pmatrix} a \\\\ b_1 \\\\ \\vdots \\\\ b_k \\end{pmatrix} + {\\bf{\\epsilon}}\n",
    "$$\n",
    "\n",
    "Solving a multilinear model follows the same approach as simple linear regression."
   ]
  },
  {
   "cell_type": "markdown",
   "metadata": {},
   "source": [
    "## Multivariate linear regression (MLR)\n",
    "\n",
    "In Multivariate Linear Regression, the response also contains multiple variables:\n",
    "\n",
    "$$\n",
    "{\\bf{Y}} = \n",
    "\\begin{pmatrix} {\\bf{1}} & {\\bf{X}} \\end{pmatrix} \n",
    "\\begin{pmatrix} \n",
    "a_1 & \\cdots & a_m\\\\ \n",
    "b_{11} & \\cdots & b_{m1} \\\\ \n",
    "\\vdots & \\ddots & \\vdots \\\\ \n",
    "b_{1k} & \\cdots & b_{mk} \n",
    "\\end{pmatrix} + {\\bf{E}}\n",
    "$$\n",
    "\n",
    "The result is exactly the same as performing individual multilinear regressions for the different response variables."
   ]
  },
  {
   "cell_type": "markdown",
   "metadata": {},
   "source": [
    "## Principal Component Analysis (PCA)\n",
    "\n",
    "https://en.wikipedia.org/wiki/Principal_component_analysis\n",
    "\n",
    "https://stats.stackexchange.com/questions/2691/making-sense-of-principal-component-analysis-eigenvectors-eigenvalues\n",
    "\n",
    "Principal component analysis can be viewed in different ways, focusing on the statistical properties, the mathematical properties, or the geometric properties. The viewpoint taken is not typically stated explicitly, which may cause some confusion as to what PCA actually is. \n",
    "\n",
    "In short, PCA can be seen as a method to analyze or describe the internal structure of a set of observations, with measurements in multiple variables. Typically, these variables are not wholly independent, and each pair of variables has a characteristic covariance and correlation. \n",
    "\n",
    "Possibly the simplest view on PCA is this: Consider a set of observations in two variables $x$ and $y$. The mean of $x$ divides the data in two parts of equal weight on left and right. Likewise, the mean of $y$ divides the data in two parts of equal weight above and below. Together, the two means divide the space in four parts. The center is the two-dimensional mean and is the balance point of the data: the data are divided equally above and below, left and right. But the data need not be equally distributed over the _quadrants_. If the upper right and the lower left have more _data weight_ than the upper left and lower right, then there is positive correlation between the two variables. What PCA does is rotating the data so that the data weight is distributed evenly over the four quadrants. Then, the data is balanced left/right, above/below _and_ over the diagonals. The latter means that after the rotation there are no linear correlations between variables anymore.\n",
    "\n",
    "So, PCA determines a rotation matrix $\\bf{P}$, which rotates the data $\\bf{X}$, such that the matrix of inner products $({\\bf{XP}})^T{\\bf{XP}}$ is a diagonal matrix.\n",
    "\n",
    "\n",
    "#### Mathematically\n",
    "\n",
    "Consider a series of $n$ observations in $k$ variables. These observations are combined in the data matrix ${\\bf{X}}$, which we here assume to be centered, i.e. all variables have a zero mean. The covariance matrix is then given as\n",
    "\n",
    "$$\n",
    "{\\bf{S}} = \\frac{1}{n-1} {\\bf{X}}^T{\\bf{X}}\n",
    "$$\n",
    "\n",
    "PCA then is concerned with the so-called *eigen* decomposition of this matrix, which gives two matrices ${\\bf{P}}$ and ${\\bf{D}}$, such that the following equation is satisfied:\n",
    "\n",
    "$$\n",
    "{\\bf{S}} = {\\bf{PDP}}^T \n",
    "$$\n",
    "\n",
    "The matrix ${\\bf{D}}$ is a *diagonal* matrix, of which the diagonal elements are the *eigenvalues*, which are typically sorted in *descending* order. The matrix ${\\bf{P}}$ contains the *eigenvectors* as columns, and this matrix is *orthonormal*, which means that it satisfies the following equation:\n",
    "\n",
    "$$\n",
    "{\\bf{PP}}^T = {\\bf{P}}^T{\\bf{P}} = {\\bf{I}}\n",
    "$$\n",
    "\n",
    "From the properties of matrix and matrix/vector multiplications, it can be seen that the covariance matrix can be written as a sum\n",
    "\n",
    "$$\n",
    "{\\bf{S}} = \\sum_{i=1}^{k} \\lambda_i {\\bf{p}}_i{\\bf{p}}_i^T\n",
    "$$\n",
    "\n",
    "$$\n",
    "{\\bf{S}} = \\sum_{i=1}^{m} \\lambda_i {\\bf{p}}_i{\\bf{p}}_i^T + \n",
    "\\sum_{j=m+1}^{k} \\lambda_i=j {\\bf{p}}_j{\\bf{p}}_i^T\n",
    "$$\n",
    "\n",
    "$$\n",
    "{\\bf{P}}^T{\\bf{SP}} = {\\bf{D}} = \\frac{1}{n-1} {\\bf{P}}^T{\\bf{X}}^T{\\bf{XP}}\n",
    "$$\n",
    "\n",
    "#### Considerations\n",
    "\n",
    "PCA acts on the matrix of inner products, which corresponds to the *covariances*. If the variables are heterogeneous (of diverse origin) and have (quite) different *variances*, then the resulting components will be dominated by the variables with the highest variance. In that case it may be better to scale the data to unit variance by dividing all values by their corresponding standard deviations. These scaled values are then *Z-scores* and the covariance matrix of these is actually the *correlation matrix*. However, this is **not** a good idea if the variables are *homogeneous*. An example of that is if the variables can be considered coordinates in a Cartesian space.\n",
    "\n"
   ]
  },
  {
   "cell_type": "markdown",
   "metadata": {},
   "source": [
    "#### Examples\n",
    "\n",
    "##### Wine"
   ]
  },
  {
   "cell_type": "code",
   "execution_count": 2,
   "metadata": {},
   "outputs": [
    {
     "data": {
      "text/html": [
       "<div>\n",
       "<table border=\"1\" class=\"dataframe\">\n",
       "  <thead>\n",
       "    <tr style=\"text-align: right;\">\n",
       "      <th></th>\n",
       "      <th>Type</th>\n",
       "      <th>fixed acidity</th>\n",
       "      <th>volatile acidity</th>\n",
       "      <th>citric acid</th>\n",
       "      <th>residual sugar</th>\n",
       "      <th>chlorides</th>\n",
       "      <th>free sulfur dioxide</th>\n",
       "      <th>total sulfur dioxide</th>\n",
       "      <th>density</th>\n",
       "      <th>pH</th>\n",
       "      <th>sulphates</th>\n",
       "      <th>alcohol</th>\n",
       "      <th>quality</th>\n",
       "    </tr>\n",
       "  </thead>\n",
       "  <tbody>\n",
       "    <tr>\n",
       "      <th>0</th>\n",
       "      <td>R</td>\n",
       "      <td>7.4</td>\n",
       "      <td>0.70</td>\n",
       "      <td>0.00</td>\n",
       "      <td>1.9</td>\n",
       "      <td>0.076</td>\n",
       "      <td>11.0</td>\n",
       "      <td>34.0</td>\n",
       "      <td>0.9978</td>\n",
       "      <td>3.51</td>\n",
       "      <td>0.56</td>\n",
       "      <td>9.4</td>\n",
       "      <td>5</td>\n",
       "    </tr>\n",
       "    <tr>\n",
       "      <th>1</th>\n",
       "      <td>R</td>\n",
       "      <td>7.8</td>\n",
       "      <td>0.88</td>\n",
       "      <td>0.00</td>\n",
       "      <td>2.6</td>\n",
       "      <td>0.098</td>\n",
       "      <td>25.0</td>\n",
       "      <td>67.0</td>\n",
       "      <td>0.9968</td>\n",
       "      <td>3.20</td>\n",
       "      <td>0.68</td>\n",
       "      <td>9.8</td>\n",
       "      <td>5</td>\n",
       "    </tr>\n",
       "    <tr>\n",
       "      <th>2</th>\n",
       "      <td>R</td>\n",
       "      <td>7.8</td>\n",
       "      <td>0.76</td>\n",
       "      <td>0.04</td>\n",
       "      <td>2.3</td>\n",
       "      <td>0.092</td>\n",
       "      <td>15.0</td>\n",
       "      <td>54.0</td>\n",
       "      <td>0.9970</td>\n",
       "      <td>3.26</td>\n",
       "      <td>0.65</td>\n",
       "      <td>9.8</td>\n",
       "      <td>5</td>\n",
       "    </tr>\n",
       "    <tr>\n",
       "      <th>3</th>\n",
       "      <td>R</td>\n",
       "      <td>11.2</td>\n",
       "      <td>0.28</td>\n",
       "      <td>0.56</td>\n",
       "      <td>1.9</td>\n",
       "      <td>0.075</td>\n",
       "      <td>17.0</td>\n",
       "      <td>60.0</td>\n",
       "      <td>0.9980</td>\n",
       "      <td>3.16</td>\n",
       "      <td>0.58</td>\n",
       "      <td>9.8</td>\n",
       "      <td>6</td>\n",
       "    </tr>\n",
       "    <tr>\n",
       "      <th>4</th>\n",
       "      <td>R</td>\n",
       "      <td>7.4</td>\n",
       "      <td>0.70</td>\n",
       "      <td>0.00</td>\n",
       "      <td>1.9</td>\n",
       "      <td>0.076</td>\n",
       "      <td>11.0</td>\n",
       "      <td>34.0</td>\n",
       "      <td>0.9978</td>\n",
       "      <td>3.51</td>\n",
       "      <td>0.56</td>\n",
       "      <td>9.4</td>\n",
       "      <td>5</td>\n",
       "    </tr>\n",
       "  </tbody>\n",
       "</table>\n",
       "</div>"
      ],
      "text/plain": [
       "  Type  fixed acidity  volatile acidity  citric acid  residual sugar  \\\n",
       "0    R            7.4              0.70         0.00             1.9   \n",
       "1    R            7.8              0.88         0.00             2.6   \n",
       "2    R            7.8              0.76         0.04             2.3   \n",
       "3    R           11.2              0.28         0.56             1.9   \n",
       "4    R            7.4              0.70         0.00             1.9   \n",
       "\n",
       "   chlorides  free sulfur dioxide  total sulfur dioxide  density    pH  \\\n",
       "0      0.076                 11.0                  34.0   0.9978  3.51   \n",
       "1      0.098                 25.0                  67.0   0.9968  3.20   \n",
       "2      0.092                 15.0                  54.0   0.9970  3.26   \n",
       "3      0.075                 17.0                  60.0   0.9980  3.16   \n",
       "4      0.076                 11.0                  34.0   0.9978  3.51   \n",
       "\n",
       "   sulphates  alcohol  quality  \n",
       "0       0.56      9.4        5  \n",
       "1       0.68      9.8        5  \n",
       "2       0.65      9.8        5  \n",
       "3       0.58      9.8        6  \n",
       "4       0.56      9.4        5  "
      ]
     },
     "execution_count": 2,
     "metadata": {},
     "output_type": "execute_result"
    }
   ],
   "source": [
    "# Preparation and reading of data\n",
    "\n",
    "import pandas as pd\n",
    "import numpy as np\n",
    "import matplotlib.pyplot as plt\n",
    "\n",
    "wine = pd.read_csv('wine.csv')\n",
    "print(wine.head())"
   ]
  },
  {
   "cell_type": "code",
   "execution_count": 13,
   "metadata": {},
   "outputs": [],
   "source": [
    "# Determining the **correlation** matrix\n",
    "\n",
    "data = wine.iloc[:,1:12].as_matrix()\n",
    "centered = data - data.mean(axis=0)\n",
    "zscores = centered / centered.std(axis=0)\n",
    "correlation_matrix = np.dot(zscores.T, zscores) / (zscores.shape[0] - 1)"
   ]
  },
  {
   "cell_type": "code",
   "execution_count": 21,
   "metadata": {},
   "outputs": [
    {
     "data": {
      "image/png": "[encoded data removed]",
      "text/plain": [
       "<matplotlib.figure.Figure at 0x1124c21d0>"
      ]
     },
     "metadata": {
      "needs_background": "light"
     },
     "output_type": "display_data"
    },
    {
     "data": {
      "image/png": "[encoded data removed]",
      "text/plain": [
       "<matplotlib.figure.Figure at 0x112559128>"
      ]
     },
     "metadata": {
      "needs_background": "light"
     },
     "output_type": "display_data"
    }
   ],
   "source": [
    "# Determining principal components\n",
    "\n",
    "eigenvalues, eigenvectors = np.linalg.eig(correlation_matrix)\n",
    "order = eigenvalues.argsort()[::-1]\n",
    "eigenvalues = eigenvalues[order]\n",
    "eigenvectors = eigenvectors[:, order]\n",
    "\n",
    "# 'Scree' plot of eigenvalues\n",
    "plt.plot(eigenvalues)\n",
    "plt.show()\n",
    "\n",
    "# Cumulative percentage of eigenvalues\n",
    "plt.plot(100 * eigenvalues.cumsum() / sum(eigenvalues))\n",
    "plt.ylim((0, 110))\n",
    "plt.show()"
   ]
  },
  {
   "cell_type": "code",
   "execution_count": 25,
   "metadata": {},
   "outputs": [
    {
     "data": {
      "image/png": "[encoded data removed]",
      "text/plain": [
       "<matplotlib.figure.Figure at 0x11257d630>"
      ]
     },
     "metadata": {
      "needs_background": "light"
     },
     "output_type": "display_data"
    }
   ],
   "source": [
    "# Projection of data onto components (rotation of data)\n",
    "\n",
    "projections = np.dot(zscores, eigenvectors)\n",
    "\n",
    "plt.scatter(projections[:,0], projections[:,1], c=projections[:, 2], s=1)\n",
    "plt.show()"
   ]
  },
  {
   "cell_type": "code",
   "execution_count": 43,
   "metadata": {},
   "outputs": [
    {
     "data": {
      "image/png": "[encoded data removed]",
      "text/plain": [
       "<matplotlib.figure.Figure at 0x1136d99e8>"
      ]
     },
     "metadata": {
      "needs_background": "light"
     },
     "output_type": "display_data"
    }
   ],
   "source": [
    "# Biplot showing projections and directions of original variables\n",
    "\n",
    "variables = wine.columns[1:12]\n",
    "\n",
    "plt.scatter(projections[:,0], projections[:,1], c=projections[:, 2], s=1)\n",
    "for var, (x,y) in zip(variables, 10*eigenvectors[:, :2]):\n",
    "    plt.arrow(0, 0, x, y, head_width=0.5)\n",
    "    plt.text(1.1*x, 1.1*y, var)\n",
    "plt.show()\n"
   ]
  },
  {
   "cell_type": "markdown",
   "metadata": {},
   "source": [
    "## Factor Analysis (FA)\n",
    "\n",
    "https://en.wikipedia.org/wiki/Factor_analysis\n",
    "\n",
    "Factor analysis differs from PCA in that it assumes that the data and the covariances are the result of a  small, typically known, number of underlying (hidden or latent) variables. The aim of FA is to identify the nature of these underlying variables. It is further assumed that each of these latent variables has a _simple structure_, which means that it is coupled to a limited number of the direct observable variables. \n",
    "\n",
    "FA starts with performing PCA, followed by selection of a number of components that is assumed to span the _latent variable space_. These components are then rotated in the _variable space_, such that each component has a structure that is as simple as possible. A popular method for this is the _varimax_ rotation that maximizes the sum of variances over the _rows_ of the selected components. Other rotations are _orthomax_ and _quartimax_. All three preserve the orthogonality of the components. The resulting simple structures of the components make it typically more easy to interpret the results than is the case with PCA. Oblique rotations, which allow non-orthogonal components, are sometimes also used, but these may again be difficult to interpret.\n",
    "\n",
    "Some additional explanation on the different types of rotations can be found on https://stats.stackexchange.com/questions/185216/factor-rotation-methods-varimax-oblimin-etc-what-do-the-names-mean-and-wh\n",
    "\n"
   ]
  },
  {
   "cell_type": "markdown",
   "metadata": {},
   "source": [
    "#### Code"
   ]
  },
  {
   "cell_type": "code",
   "execution_count": 47,
   "metadata": {},
   "outputs": [],
   "source": [
    "def varimax(components, gamma=1, maxiter=20, tol=1e-8):\n",
    "    \"\"\"Perform VariMax (gamma=1) or OrthoMax (gamma=0) rotation on components\"\"\"\n",
    "    p,k = components.shape\n",
    "    R   = np.eye(k)\n",
    "    f   = float(gamma)/p\n",
    "    d   = 0\n",
    "    for i in range(maxiter):\n",
    "        d_old = d\n",
    "        L = np.dot(components, R)\n",
    "        A = L**3 - f * (L*(L**2).sum(axis=0))**2\n",
    "        U,s,V = np.linalg.svd(np.dot(components.T,A))\n",
    "        R = np.dot(U,V)\n",
    "        d = sum(s)\n",
    "        if (d - d_old)**2 < tol: \n",
    "            break\n",
    "    return np.dot(components, R)"
   ]
  },
  {
   "cell_type": "code",
   "execution_count": 57,
   "metadata": {},
   "outputs": [
    {
     "data": {
      "image/png": "[encoded data removed]",
      "text/plain": [
       "<matplotlib.figure.Figure at 0x1120c0c50>"
      ]
     },
     "metadata": {
      "needs_background": "light"
     },
     "output_type": "display_data"
    }
   ],
   "source": [
    "# Using the wine example \n",
    "\n",
    "V = varimax(eigenvectors[:, :3])\n",
    "\n",
    "fa_projections = np.dot(zscores, V)\n",
    "plt.scatter(fa_projections[:,0], fa_projections[:,1], c=fa_projections[:, 2], s=1)\n",
    "for var, (x,y) in zip(variables, 10*V[:, :2]):\n",
    "    plt.arrow(0, 0, x, y, head_width=0.5)\n",
    "    plt.text(1.1*x, 1.1*y, var)\n",
    "plt.show()"
   ]
  },
  {
   "cell_type": "markdown",
   "metadata": {},
   "source": [
    "## Singular Value Decomposition (SVD)\n",
    "\n",
    "https://en.wikipedia.org/wiki/Singular_value_decomposition\n",
    "\n",
    "The short explanation of the SVD is that it aims at finding two rotation matrices $\\bf{U}$ and $\\bf{V}$ for two data set $\\bf{X}$ and $\\bf{Y}$, such that the matrix of inner products of the two $({\\bf{XU}})^T{\\bf{YV}}$ after rotation is diagonal.\n",
    "\n",
    "While the PCA rotation of one dataset rotates it such that the first component has the largest variance, the second the second largest variance, and so on, the SVD rotations rotate both data sets such that the two first components have the highest variance, the two second components have the second highest covariance, and so on. Likewise, where the covariance between any two non-equal components is zero in PCA, any two components from either data set, which have unequal indices have zero covariance in SVD. In this context, the SVD is sometimes explicitly called 'Maximum Covariance Analysis'.\n",
    "\n",
    "In the above sense, the SVD applies to cross-covariance matrices (covariance matrices from the inner product of two data sets). However, every matrix could be considered or even written as a cross-covariance matrix of some two data matrices, and the SVD is thus not restricted to actual ones, but can be used to write any matrix as two 'rotation' (singular vector) matrices and a diagonal matrix of singular values:\n",
    "\n",
    "$$\n",
    "{\\bf{S}} = {\\bf{U}}{\\bf{\\Lambda}}{\\bf{V}}^T\n",
    "$$\n"
   ]
  },
  {
   "cell_type": "markdown",
   "metadata": {},
   "source": [
    "## Procrustes Analysis (PA)\n",
    "\n",
    "https://en.wikipedia.org/wiki/Procrustes_analysis\n",
    "\n",
    "Procrustes Analysis aims at finding the optimal superposition of two datasets of equivalent points by translation, rotation and scaling. The result of the operation is that the sum of squared distances between equivalent points is minimized. Applications include, e.g., matching images.\n",
    "\n",
    "The problem can be phrased as having two datasets $\\bf{X}$ and $\\bf{Y}$ of equal dimensions, with matched rows. It's easiest to first center both data sets, because that settles the translation part. Solving the problem then involves minimizing the $D^2$, the sum of squared distances\n",
    "\n",
    "$$\n",
    "D^2 = \\text{tr}\\,({\\bf{X}} - {\\bf{YR}})^T({\\bf{X}} - {\\bf{YR}})\n",
    "$$\n",
    "\n",
    "This is just the Euclidean distance and can be expanded to\n",
    "\n",
    "$$\n",
    "D^2 = \\text{tr}\\,{\\bf{X}}^T{\\bf{X}} + \\text{tr}\\,({\\bf{YR}})^T{\\bf{YR}} \n",
    "-\\text{tr}\\, {\\bf{X}}^T{\\bf{YR}} -\\text{tr}\\, {\\bf{YR}}^T{\\bf{X}}\n",
    "$$\n",
    "\n",
    "Now note that transposition does not change the trace, so the last two terms are equal and can be replaced. Further note that the inner product of a matrix does not change with rotation, so we can rewrite the above to \n",
    "\n",
    "$$\n",
    "D^2 = \\text{tr}\\,{\\bf{X}}^T{\\bf{X}} + \\text{tr}\\,{\\bf{Y}}^T{\\bf{Y}} \n",
    "-2 \\text{tr}\\, {\\bf{X}}^T{\\bf{YR}} \n",
    "$$\n",
    "\n",
    "So we obtain an equation for $D^2$ that is to be minimized with respect to the rotation $R$, and that rotation only occurs in the last term. The first two terms are constant for every $R$, and since the last term is a subtraction, minimizing $D^2$ is thus equal to maximizing the trace of the matrix ${\\bf{X}}^T{\\bf{YR}}$. Now any matrix has maximal trace if all the information is on the diagonal, and this can be done with the SVD\n",
    "\n",
    "$$\n",
    "{\\bf{X}}^T{\\bf{Y}} = {\\bf{U \\Lambda V}}^T\n",
    "$$\n",
    "\n",
    "and\n",
    "\n",
    "$$\n",
    "\\text{tr} \\, {\\bf{U}}^T{\\bf{X}}^T{\\bf{Y}}{\\bf{V}} = \\text{tr} \\, {\\bf{\\Lambda}}\n",
    "$$\n",
    "\n",
    "At this point it helps to know that the trace of a matrix product does not change if a matrix is shifted from the left side to the right, or vice versa, so we can change the equation above to \n",
    "\n",
    "$$\n",
    "\\text{tr} \\, {\\bf{X}}^T{\\bf{Y}}{\\bf{V}}{\\bf{U}}^T = \\text{tr} \\, {\\bf{\\Lambda}}\n",
    "$$\n",
    "\n",
    "and it becomes evident that the distance minimizing rotation ${\\bf{R}} = {\\bf{VU}}^T$."
   ]
  },
  {
   "cell_type": "markdown",
   "metadata": {},
   "source": [
    "## Principal Component Regression (PCR)\n",
    "\n",
    "https://en.wikipedia.org/wiki/Principal_component_regression\n",
    "\n",
    "Principal component regression is principal component analysis of the dataset of potential independent variables to obtain a limited set of orthogonal components, which are then used for regression. "
   ]
  },
  {
   "cell_type": "markdown",
   "metadata": {},
   "source": [
    "## Partial Least Squares Regression (PLSR)\n",
    "\n",
    "https://en.wikipedia.org/wiki/Partial_least_squares_regression\n",
    "\n"
   ]
  },
  {
   "cell_type": "markdown",
   "metadata": {},
   "source": [
    "## Canonical Correlation Analysis (CCA)\n",
    "\n",
    "https://en.wikipedia.org/wiki/Canonical_correlation\n",
    "\n"
   ]
  },
  {
   "cell_type": "markdown",
   "metadata": {},
   "source": [
    "## Generalized Principal Component Analysis (GPCA)"
   ]
  },
  {
   "cell_type": "markdown",
   "metadata": {},
   "source": [
    "## Generalized Singular Value Decomposition (GSVD)"
   ]
  },
  {
   "cell_type": "markdown",
   "metadata": {},
   "source": [
    "## Generalized Procrustes Analysis (GPA)"
   ]
  },
  {
   "cell_type": "markdown",
   "metadata": {},
   "source": [
    "## Multiset Canonical Correlation Analysis (MCCA)"
   ]
  },
  {
   "cell_type": "markdown",
   "metadata": {},
   "source": [
    "## Multiset Partial Least Squares (MPLS)"
   ]
  },
  {
   "cell_type": "markdown",
   "metadata": {},
   "source": [
    "## Multidimensional Scaling (MDS)\n",
    "\n",
    "https://en.wikipedia.org/wiki/Multidimensional_scaling\n",
    "\n",
    "Multidimensional scaling or Principal Coordinate Analysis (PCoorA) is an application of PCA on a *dissimilarity matrix*, rather than on a covariance matrix, which is more like a *similarity matrix*. \n",
    "\n",
    "Say we have an $n$ by $n$ dissimilarity matrix from $n$ observations. The objective of MDS is then finding $n$ vectors in a $k$-dimensional space such that the dissimilarity matrix of these new vectors is as close as possible to the original matrix. In casual terms, MDS assigns coordinates to observations based on dissimilarities. \n",
    "\n",
    "The objective of MDS is not too different from that of PCA on a covariance matrix. If we have an $n$ by $n$ covariance matrix from $n$ observations, then the objective of PCA can be phrased as assigning $k$-dimensional coordinates to these observations, such that the covariance matrix of these coordinates is as close as possible to the original one for any choice of $k$.\n",
    "\n",
    "To illustrate the MDS in light of the relation with standard PCA, let $\\bf{a}$, $\\bf{b}$, $\\bf{c}$, $\\bf{d}$, and $\\bf{e}$ denote five vectors in some variable space. We here assume that this is a regular, say Cartesian, space. The distance squared between any two points can be written (here for $\\bf{a}$ and $\\bf{b}$) as \n",
    "\n",
    "$$\n",
    "d_{ab}^2 = ({\\bf{a}} - {\\bf{b}})^T ({\\bf{a}} - {\\bf{b}})\n",
    "= {\\bf{a}}^T {\\bf{a}} + {\\bf{b}}^T {\\bf{b}} - 2 {\\bf{a}}^T{\\bf{b}}\n",
    "$$\n",
    "\n",
    "The matrix of all distances squared can then be written as \n",
    "\n",
    "$$\n",
    "{\\bf{D}}^2 = \\begin{pmatrix}\n",
    "{\\bf{a}}^T {\\bf{a}} + {\\bf{a}}^T {\\bf{a}} - 2 {\\bf{a}}^T{\\bf{a}} &\n",
    "\\cdots &\n",
    "{\\bf{a}}^T {\\bf{a}} + {\\bf{e}}^T {\\bf{e}} - 2 {\\bf{a}}^T{\\bf{e}} \\\\\n",
    "\\vdots & \\ddots & \\vdots \\\\\n",
    "{\\bf{e}}^T {\\bf{e}} + {\\bf{a}}^T {\\bf{a}} - 2 {\\bf{e}}^T{\\bf{a}} &\n",
    "\\cdots &\n",
    "{\\bf{e}}^T {\\bf{e}} + {\\bf{e}}^T {\\bf{e}} - 2 {\\bf{e}}^T{\\bf{e}} \n",
    "\\end{pmatrix}\n",
    "$$\n",
    "\n",
    "Because the distances are shift-invariant, we can set any of our points as the origin, so we take $\\bf{a}$. But if $\\bf{a}$ is the origin, any distance squared with respect to it  will be the inner product of the corresponding point, and the matrix can be rewritten:\n",
    "\n",
    "$$\n",
    "{\\bf{D}}^2 = \\begin{pmatrix}\n",
    "0 & \n",
    "{\\bf{b}}^T{\\bf{b}} & \n",
    "\\cdots & \n",
    "{\\bf{e}}^T{\\bf{e}} \\\\\n",
    "{\\bf{b}}^T{\\bf{b}} & \n",
    "{\\bf{b}}^T {\\bf{b}} + {\\bf{b}}^T {\\bf{b}} - 2 {\\bf{b}}^T{\\bf{b}} &\n",
    "\\cdots &\n",
    "{\\bf{b}}^T {\\bf{b}} + {\\bf{e}}^T {\\bf{e}} - 2 {\\bf{b}}^T{\\bf{e}} \\\\\n",
    "\\vdots & \n",
    "\\vdots & \n",
    "\\ddots & \n",
    "\\vdots \\\\\n",
    "{\\bf{e}}^T {\\bf{e}} &\n",
    "{\\bf{e}}^T {\\bf{e}} + {\\bf{b}}^T {\\bf{b}} - 2 {\\bf{e}}^T{\\bf{b}} &\n",
    "\\cdots &\n",
    "{\\bf{e}}^T {\\bf{e}} + {\\bf{e}}^T {\\bf{e}} - 2 {\\bf{e}}^T{\\bf{e}} \n",
    "\\end{pmatrix}\n",
    "$$\n",
    "\n",
    "Now subtracting the top row from all rows and the first column from all columns and dividing by $-2$ gives the matrix of sums-of-squares and crossproducts $\\bf{S}$\n",
    "\n",
    "$$\n",
    "{\\bf{S}} = \\begin{pmatrix}\n",
    "0 & 0 & 0 & 0 & 0 \\\\\n",
    "0 & {\\bf{b}}^T{\\bf{b}} & {\\bf{b}}^T{\\bf{c}} & {\\bf{b}}^T{\\bf{d}} & {\\bf{b}}^T{\\bf{e}} \\\\\n",
    "0 & {\\bf{c}}^T{\\bf{b}} & {\\bf{c}}^T{\\bf{c}} & {\\bf{c}}^T{\\bf{d}} & {\\bf{c}}^T{\\bf{e}} \\\\\n",
    "0 & {\\bf{d}}^T{\\bf{b}} & {\\bf{d}}^T{\\bf{c}} & {\\bf{d}}^T{\\bf{d}} & {\\bf{d}}^T{\\bf{e}} \\\\\n",
    "0 & {\\bf{e}}^T{\\bf{b}} & {\\bf{e}}^T{\\bf{c}} & {\\bf{e}}^T{\\bf{d}} & {\\bf{e}}^T{\\bf{e}} \\\\\n",
    "\\end{pmatrix}\n",
    "$$\n",
    "\n",
    "With ${\\bf{a}} = \\begin{pmatrix} 0 \\\\ 0 \\\\ 0 \\end{pmatrix}$ it is obvious that this matrix is obtained as ${\\bf{X}}^T{\\bf{X}}$ with the coordinates ${\\bf{X}} = \\begin{pmatrix} {\\bf{a}} \\\\ \\vdots \\\\ {\\bf{e}} \\end{pmatrix}$ with any rotation. Vice versa, the eigen decomposition must then yield those coordinates with some rotation:\n",
    "\n",
    "$$\n",
    "{\\bf{S}} = {\\bf{PD}}^{\\frac{1}{2}}{\\bf{DP}} = {\\bf{R}}^T{\\bf{X}}^T{\\bf{X}}{\\bf{R}}\n",
    "$$\n",
    "\n",
    "The rotation is not arbitrary, but corresponds to the rotation of the points, such that the first coordinate has maximal inner product, the second coordinate has the next maximal inner product, etc. However, the coordinates thus assigned to the observations have the origin at one of the points. The choice is arbitrary, but affects the rotation. The result is equal to the result from PCA if the origin is set at the center of the distribution. Then the first coordinate corresponds to the direction of maximal distances between the observations. \n",
    "\n",
    "Gower (1966) presented the method as Principal Coordinate Analysis with a method to infer the center of mass from the distance matrix and set that as origin. \n",
    "\n",
    "The method is particularly useful if distances between observations are more easily determined or have clearer meaning than actual coordinates. It is often used prior to clustering, since it is typically possible to use a space of limited dimensions to capture as much as possible of the dissimilarities.\n",
    "\n",
    "As example, we here consider backbone conformations of stretches of five amino acids in proteins. Each of these stretches consists of a chain of fifteen atoms, each of which has a shape and some location in Cartesian space with some orientation. Although it is possible to specify the location, simply taking the center of mass, it is not actually possible to have a satisfying definition of orientation. This is only unambiguously defined for two conformations and that definition follows from a measure for the distance between the two conformations, say ${\\bf{A}}$ and ${\\bf{B}}$:\n",
    "\n",
    "$$\n",
    "d_{\\bf{AB}}^2 = \n",
    "\\frac{1}{m} \\text{Tr} {\\bf{A}^T\\bf{A}} + \n",
    "\\frac{1}{m} \\text{Tr} {\\bf{B}^T\\bf{B}} - \n",
    "\\frac{2}{m} \\text{Tr} {\\bf{\\Lambda}}\n",
    "$$\n",
    "\n",
    "where ${\\bf{\\Lambda}}$ is the matrix of singular values obtained from the SVD of the matrix of inner products ${\\bf{A}}^T{\\bf{B}}$.\n",
    "\n",
    "After collecting all pairwise distances, we can use MDS to assign each conformation new coordinates in a Cartesian space, such that the positions can be used directly for comparisons or for clustering. Note beforehand that we may get a large $n$ by $n$ matrix, but that we should not get more than $5 \\times 3 \\times 3 = 45$ coordinates, as that is the number of coordinates we have in a pentapeptide backbone (five times N, C$_\\alpha$, C, with x, y, z each)."
   ]
  },
  {
   "cell_type": "code",
   "execution_count": 51,
   "metadata": {},
   "outputs": [],
   "source": [
    "import urllib\n",
    "import os\n",
    "\n",
    "import numpy as np\n",
    "\n",
    "\n",
    "class Residue:\n",
    "    def __init__(self, linelist):\n",
    "        self.id = linelist[0][17:26]\n",
    "        self._dict = {line[12:16]: coords(line) for line in linelist}\n",
    "    \n",
    "    def __getitem__(self, item):\n",
    "        return self._dict.get(item)\n",
    "    \n",
    "    def __contains__(self, item):\n",
    "        return item in self._dict.keys()\n",
    "    \n",
    "\n",
    "def coords(line):\n",
    "    return np.array([line[30:38], line[38:46], line[46:54]], dtype=float)\n",
    "\n",
    "\n",
    "def msd(a, b):\n",
    "    sv = np.abs(np.linalg.svd(np.dot(a.T, b), compute_uv=False)).sum()\n",
    "    return ((a**2).sum() + (b**2).sum() - 2 * sv) / a.shape[0]\n",
    "\n",
    "\n",
    "def pdb_residue_iterator(stream):\n",
    "    res = [next(stream)]\n",
    "    for line in stream:\n",
    "        if line[17:26] == res[0][17:26]:\n",
    "            res.append(line)\n",
    "        else:\n",
    "            yield Residue(res)\n",
    "            res = [line]\n",
    "    yield Residue(res)\n",
    "\n",
    "\n",
    "def pdb_chain_iterator(pdbatoms):\n",
    "    resit = pdb_residue_iterator(pdbatoms)\n",
    "    chain = [next(resit)]\n",
    "    for res in resit:\n",
    "        if ((res[' CA '] - chain[-1][' CA '])**2).sum() > 17:\n",
    "            yield chain\n",
    "            chain = [res]\n",
    "        else:\n",
    "            chain.append(res)\n",
    "    yield chain\n",
    "\n",
    "\n",
    "def pdbatoms(pdbid):\n",
    "    if not os.path.exists(pdbid):\n",
    "        url = \"http://files.rcsb.org/download/{}\".format(pdbid)\n",
    "        urllib.request.urlretrieve(url, pdbid)\n",
    "        \n",
    "    with open(pdbid) as pdb:\n",
    "        for line in pdb:\n",
    "            if line.startswith('ATOM'):\n",
    "                yield line\n",
    "                \n",
    "\n",
    "def pdb_chains_sele_it(pdbid, atoms=(\" N  \", \" CA \", \" C  \")):  \n",
    "    for chain in pdb_chain_iterator(pdbatoms(pdbid)):\n",
    "        chn = []\n",
    "        res = [[r[a] for a in atoms] for r in chain]\n",
    "        for r in res:\n",
    "            if any(a is None for a in res):\n",
    "                yield chn\n",
    "                chn = []\n",
    "            else:\n",
    "                chn.extend(r)\n",
    "        yield chn\n",
    "        "
   ]
  },
  {
   "cell_type": "code",
   "execution_count": 93,
   "metadata": {},
   "outputs": [],
   "source": [
    "def pepper_msd_matrix(chain, r, a):\n",
    "    n = chain.shape[0] // a\n",
    "    k = n - r\n",
    "    print(n, k)\n",
    "    ppt = np.zeros((n,n,3,3))\n",
    "    for i in range(a):\n",
    "        ppt += (chain[i::a,None,:,None] * chain[None,i::a,None,:])\n",
    "    diag = np.diagonal(np.diagonal(ppt)).sum(axis=1)\n",
    "    \n",
    "    msd = np.zeros((k,k))\n",
    "    end = k * (k-1) // 2\n",
    "    now = 0\n",
    "    for i in range(k-1):\n",
    "        for j in range(i+1,k):\n",
    "            xy = ppt[i:i+r,j:j+r].sum(axis=(2,3))\n",
    "            msd[i,j] = (diag[i:i+r].sum() + diag[j:j+r].sum() - \n",
    "                        2 * np.abs(np.linalg.svd(xy, compute_uv=False)).sum())\n",
    "            now += 1\n",
    "            print(\"\\r{:5.2%}\".format(now/end), end=\"\", flush=True)\n",
    "    return msd + msd.T"
   ]
  },
  {
   "cell_type": "code",
   "execution_count": 94,
   "metadata": {},
   "outputs": [
    {
     "name": "stdout",
     "output_type": "stream",
     "text": [
      "94 89\n",
      "100.00%(89, 89)\n",
      "40 35\n",
      "100.00%(35, 35)\n",
      "122 117\n",
      "100.00%(117, 117)\n",
      "213 208\n",
      "100.00%(208, 208)\n",
      "277 272\n",
      "99.74%867 862\n",
      "8.24%"
     ]
    },
    {
     "name": "stderr",
     "output_type": "stream",
     "text": [
      "IOPub message rate exceeded.\n",
      "The notebook server will temporarily stop sending output\n",
      "to the client in order to avoid crashing it.\n",
      "To change this limit, set the config variable\n",
      "`--NotebookApp.iopub_msg_rate_limit`.\n",
      "\n",
      "Current values:\n",
      "NotebookApp.iopub_msg_rate_limit=1000.0 (msgs/sec)\n",
      "NotebookApp.rate_limit_window=3.0 (secs)\n",
      "\n"
     ]
    }
   ],
   "source": [
    "for chain in pdb_chains_sele_it('2uv8.pdb', (\" N  \", \" CA \", \" C  \")):\n",
    "    if chain:\n",
    "        chain = np.array(chain)\n",
    "        pepmsd = pepper_msd_matrix(chain, 5, 3)"
   ]
  },
  {
   "cell_type": "code",
   "execution_count": 10,
   "metadata": {},
   "outputs": [
    {
     "name": "stdout",
     "output_type": "stream",
     "text": [
      "[(93, 3), (40, 3), (122, 3), (213, 3), (277, 3), (867, 3), (94, 3), (40, 3), (122, 3), (213, 3), (277, 3), (867, 3), (94, 3), (40, 3), (122, 3), (213, 3), (277, 3), (867, 3), (1105, 3), (928, 3), (1105, 3), (928, 3), (1105, 3), (22805, 3)]\n",
      "(40, 3)\n",
      "(40, 40, 3, 3)\n"
     ]
    }
   ],
   "source": [
    "atoms = (\" N  \", \" CA \", \" C  \")\n",
    "chains = read_pdb_coordinates('2uv8.pdb', atoms=atoms)\n",
    "print([c.shape for c in chains])\n",
    "\n",
    "c1 = chains[1]\n",
    "s = np.arange(5)\n",
    "\n",
    "print(c1.shape)\n",
    "\n",
    "PPT = c1[:,None,:,None] * c1[None,:,None,:]\n",
    "print(PPT.shape)\n",
    "# pentapep = [ c[i:i+15] for c in chains for i in range(0, c.shape[0]-15, 3) ]\n",
    "# # Center everything at the origin\n",
    "# pentapep = [ p - p.mean(axis=0) for p in pentapep ]\n",
    "\n",
    "# MSD = np.zeros((len(pentapep), len(pentapep)), dtype=\"float\")\n",
    "# end = len(pentapep) * (len(pentapep) - 1) // 2\n",
    "# k = 0\n",
    "# for i, a in enumerate(pentapep):\n",
    "#     for j, b in enumerate(pentapep[i+1:], i+1):\n",
    "#         MSD[i,j] = msd(a,b)\n",
    "#         k += 1\n",
    "#     print(\"\\r{:4.1%}\".format(k/end), end=\"\", flush=True)"
   ]
  },
  {
   "cell_type": "code",
   "execution_count": 43,
   "metadata": {},
   "outputs": [
    {
     "name": "stdout",
     "output_type": "stream",
     "text": [
      "[[ 0.          3.41910555  3.47759623]\n",
      " [ 3.41910555  0.          0.50033914]\n",
      " [ 3.47759623  0.50033914  0.        ]]\n"
     ]
    }
   ],
   "source": [
    "MSD = MSD + MSD.T"
   ]
  },
  {
   "cell_type": "code",
   "execution_count": 46,
   "metadata": {},
   "outputs": [
    {
     "ename": "TypeError",
     "evalue": "scatter() missing 1 required positional argument: 'y'",
     "output_type": "error",
     "traceback": [
      "\u001b[0;31m---------------------------------------------------------------------------\u001b[0m",
      "\u001b[0;31mTypeError\u001b[0m                                 Traceback (most recent call last)",
      "\u001b[0;32m<ipython-input-46-f4d8c85396ae>\u001b[0m in \u001b[0;36m<module>\u001b[0;34m()\u001b[0m\n\u001b[1;32m      2\u001b[0m \u001b[0mD\u001b[0m\u001b[0;34m,\u001b[0m \u001b[0mP\u001b[0m \u001b[0;34m=\u001b[0m \u001b[0mnp\u001b[0m\u001b[0;34m.\u001b[0m\u001b[0mlinalg\u001b[0m\u001b[0;34m.\u001b[0m\u001b[0meig\u001b[0m\u001b[0;34m(\u001b[0m\u001b[0mS\u001b[0m\u001b[0;34m)\u001b[0m\u001b[0;34m\u001b[0m\u001b[0m\n\u001b[1;32m      3\u001b[0m \u001b[0;34m\u001b[0m\u001b[0m\n\u001b[0;32m----> 4\u001b[0;31m \u001b[0mplt\u001b[0m\u001b[0;34m.\u001b[0m\u001b[0mscatter\u001b[0m\u001b[0;34m(\u001b[0m\u001b[0mD\u001b[0m\u001b[0;34m)\u001b[0m\u001b[0;34m\u001b[0m\u001b[0m\n\u001b[0m\u001b[1;32m      5\u001b[0m \u001b[0mplt\u001b[0m\u001b[0;34m.\u001b[0m\u001b[0mshow\u001b[0m\u001b[0;34m(\u001b[0m\u001b[0;34m)\u001b[0m\u001b[0;34m\u001b[0m\u001b[0m\n",
      "\u001b[0;31mTypeError\u001b[0m: scatter() missing 1 required positional argument: 'y'"
     ]
    }
   ],
   "source": [
    "S = -0.5*(MSD - MSD[0] - MSD[0][:,None])\n",
    "D, P = np.linalg.eig(S)"
   ]
  },
  {
   "cell_type": "code",
   "execution_count": 51,
   "metadata": {},
   "outputs": [
    {
     "data": {
      "image/png": "[encoded data removed]",
      "text/plain": [
       "<matplotlib.figure.Figure at 0x10a3eb3c8>"
      ]
     },
     "metadata": {
      "needs_background": "light"
     },
     "output_type": "display_data"
    }
   ],
   "source": [
    "plt.scatter(np.arange(1,D.size+1), D)\n",
    "plt.xlim(0,30.5)\n",
    "plt.show()"
   ]
  },
  {
   "cell_type": "code",
   "execution_count": null,
   "metadata": {},
   "outputs": [],
   "source": [
    "print(pentapep[0])"
   ]
  },
  {
   "cell_type": "markdown",
   "metadata": {},
   "source": [
    "## Spectral Graph Partitioning (SGP)\n",
    "\n",
    "https://en.wikipedia.org/wiki/Graph_partition#Spectral_partitioning_and_spectral_bisection\n",
    "\n",
    "Spectral Graph Partitioning is an application of PCA on a *graph*. For this, the graph is represented as a *Laplacian matrix*, which has a $-1$ for every connected nodes $i$ and $j$, and has the number of connections for each node on the diagonal. The eigenvectors of this matrix then represent a way of partitioning the graph in such a way that at every division the least connections are broken.\n",
    "\n",
    "If the graph is not disjoint (i.e. consisting of more than one piece), the first eigenvector of this matrix is equal to $\\frac{1}{\\sqrt{n}}\\bf{1}$."
   ]
  },
  {
   "cell_type": "markdown",
   "metadata": {},
   "source": [
    "## Independent Component Analysis (ICA)\n",
    "\n",
    "https://en.wikipedia.org/wiki/Independent_component_analysis\n",
    "\n",
    "Independent Component Analysis determines components such that the distributions of scores are as non-Gaussian as possible and/or the *mutual information* between a component and the remainder of the data is minimized. The term mutual information refers to the overall (in)dependence of two data sets (variables), rather than only the linear (in)dependence (correlation) or (in)dependence according to some other specific relationship (GLM, NLS). "
   ]
  },
  {
   "cell_type": "markdown",
   "metadata": {},
   "source": [
    "## Linear Discriminant Analysis (LDA)\n",
    "\n",
    "https://en.wikipedia.org/wiki/Linear_discriminant_analysis\n",
    "\n",
    "Linear Discriminant Analysis finds the component that maximizes the separation of two groups $X$ and $Y$ in the data. If $\\bar{\\bf{x}}$ and $\\bar{\\bf{y}}$ are the respective means of the two groups and $\\bf{S}$ is the *pooled covariance matrix*\n",
    "\n",
    "$$\n",
    "{\\bf{S}} = \\frac{(n_x - 1){\\bf{S}}_x + (n_y - 1){\\bf{S}}_y}{n_x + n_y - 2}\n",
    "$$\n",
    "\n",
    "then LDA gives a single component $\\bf{a}$\n",
    "\n",
    "$$\n",
    "{\\bf{a}} = {\\bf{S}}^{-1} (\\bar{\\bf{x}} - \\bar{\\bf{y}})\n",
    "$$\n",
    "\n",
    "The scores of $X$ and $Y$ on $\\bf{a}$ will have distributions with means and variances such that a t-test will give the maximum possible (squared) critical value. "
   ]
  },
  {
   "cell_type": "markdown",
   "metadata": {},
   "source": [
    "## Kernel PCA (kPCA)\n",
    "\n",
    "https://en.wikipedia.org/wiki/Kernel_principal_component_analysis\n",
    "\n",
    "In kernel PCA, the covariance matrix is replaced by an alternative matrix of similarities. This matrix can be obtained from an operation on the elements of a covariance matrix, but can also be obtained from, e.g., a distance (dissimilarity) matrix, which can be turned into a matrix of similarities by exponentiation of the elements. In general, the covariance matrix is replaced by a matrix ${\\bf{K}}$ of which the elements result from application of a function, the *kernel* function $k({\\bf{x}}_i,{\\bf{x}}_j)$, to the observations ${\\bf{x}}_i$ and ${\\bf{x}}_j$."
   ]
  },
  {
   "cell_type": "markdown",
   "metadata": {},
   "source": [
    "## Non-central PCA\n",
    "\n",
    "Non-central PCA is what you get if the mean is not subtracted before determining the eigenvectors. In most cases, that's not a good idea. It is a decomposition of the non-central covariance matrix, which is the *raw* second moment of the multivariate distribution, using $s_{ij} = \\frac{1}{n} {\\bf{x}}_i^T {\\bf{x}}_j$, rather than $s_{ij} = \\frac{1}{n-1} ({{\\bf{x}}_i} - {\\bf{\\bar{x}}})^T ({{\\bf{x}}_i} - {\\bf{\\bar{x}}})$. The effect of it is that the resulting components encode both location and spread. \n",
    "\n",
    "Non-central PCA may be useful if the origin has a specific role in relation to the data. This may be the case if, e.g., the origin is known to be the center of rotation of the data."
   ]
  },
  {
   "cell_type": "markdown",
   "metadata": {},
   "source": [
    "## Non-linear PCA"
   ]
  },
  {
   "cell_type": "markdown",
   "metadata": {},
   "source": [
    "## Generalized Linear Model (GLM)"
   ]
  },
  {
   "cell_type": "markdown",
   "metadata": {},
   "source": [
    "## Multivariate GLM"
   ]
  },
  {
   "cell_type": "markdown",
   "metadata": {},
   "source": [
    "## Non-linear Least Squares (NLS)"
   ]
  },
  {
   "cell_type": "markdown",
   "metadata": {},
   "source": [
    "## Stochastic Neighbor Embedding (SNE)\n",
    "\n",
    "https://en.wikipedia.org/wiki/T-distributed_stochastic_neighbor_embedding\n",
    "\n",
    "Stochastic Neighbor Embedding, and its derivative t-distributed Stochastic Neighbor Embedding (t-SNE) are dimensionality reduction methods that aim at preserving the local neighborhoods of the observations. Essentially, this means that the distances of points close in space are preserved, but larger distances are stretched to give a better separation.\n",
    "\n",
    "The module **tsne.py** was downloaded from the github repository of the author, Laurens van der Maaten."
   ]
  },
  {
   "cell_type": "code",
   "execution_count": null,
   "metadata": {},
   "outputs": [],
   "source": [
    "import numpy as np\n",
    "import matplotlib.pyplot as plt\n",
    "import tsne\n",
    "\n",
    "print(\"Running example on 2,500 MNIST digits...\")\n",
    "X = np.loadtxt(\"tsne_python/mnist2500_X.txt\")\n",
    "labels = np.loadtxt(\"tsne_python/mnist2500_labels.txt\")\n",
    "\n",
    "dimensions = 2\n",
    "components = 50\n",
    "perplexity = 20.0\n",
    "\n",
    "Y = tsne.tsne(X, dimensions, components, perplexity)\n",
    "\n",
    "plt.scatter(Y[:, 0], Y[:, 1], 20, labels)\n",
    "plt.show()\n"
   ]
  }
 ],
 "metadata": {
  "kernelspec": {
   "display_name": "Python 3 (ipykernel)",
   "language": "python",
   "name": "python3"
  },
  "language_info": {
   "codemirror_mode": {
    "name": "ipython",
    "version": 3
   },
   "file_extension": ".py",
   "mimetype": "text/x-python",
   "name": "python",
   "nbconvert_exporter": "python",
   "pygments_lexer": "ipython3",
   "version": "3.8.12"
  }
 },
 "nbformat": 4,
 "nbformat_minor": 2
}
