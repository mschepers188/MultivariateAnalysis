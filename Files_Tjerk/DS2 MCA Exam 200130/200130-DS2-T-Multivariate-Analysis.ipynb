{
 "cells": [
  {
   "cell_type": "markdown",
   "metadata": {},
   "source": [
    "# DS2 - Multivariate Analysis"
   ]
  },
  {
   "cell_type": "markdown",
   "metadata": {},
   "source": [
    "# Assignment 1: Principal Component Analysis (10 points)\n",
    "\n",
    "The file `aml-chr16.dat` contains RNA-seq data of 285 patients with AML. The index contains the patient ID and the last column contains the FAB category. Perform PCA on the data set and draw biplots of the data projected on the first three components. \n",
    "\n",
    "Notes:\n",
    "\n",
    "* Make sure that the different AML categories can be distinguished in the plot. \n",
    "* Only draw lines/arrows for the 25 variables that are most associated with the selected eigenvectors, i.e. have the highest absolute values (loadings) in the eigenvectors.\n",
    "\n",
    "Consider and discuss the following aspects:\n",
    "\n",
    "* Is it necessary to normalize the data?\n",
    "* How many eigenvectors are required to capture the most significant features of the data?\n",
    "* What is the interpretation of a principal component in this context?\n"
   ]
  },
  {
   "cell_type": "code",
   "execution_count": null,
   "metadata": {},
   "outputs": [],
   "source": []
  },
  {
   "cell_type": "markdown",
   "metadata": {},
   "source": []
  },
  {
   "cell_type": "markdown",
   "metadata": {},
   "source": [
    "# Assignment 2: Linear Discriminant Analysis (10 points)\n",
    "\n",
    "The file `aml-PCA10.csv` contains the projections of the AML data on the first ten principal components. The order is the same as that of `aml-chr16.dat`. From this file, consider only the FAB categories 5 and 6. Perform LDA on these and then project the data on the discriminant axis, with the FAB category as y-axis.\n",
    "\n",
    "Consider and discuss the following aspects:\n",
    "\n",
    "* Is the assumption of equal covariance matrices reasonable?\n",
    "* How good is the separation between the two groups?\n",
    "* What is the interpretation of the discriminant axis in the context of this dataset?\n",
    "* What is the interpretation of the discriminant axis in the context of the original data (expressions)?\n",
    "\n",
    "Note: the inverse of the pooled covariance matrix can be obtained with `np.linalg.inv`"
   ]
  },
  {
   "cell_type": "code",
   "execution_count": null,
   "metadata": {},
   "outputs": [],
   "source": []
  },
  {
   "cell_type": "markdown",
   "metadata": {},
   "source": []
  },
  {
   "cell_type": "markdown",
   "metadata": {},
   "source": [
    "# Assignment 3: Multivariate Linear Regression (5 points)\n",
    "\n",
    "The file `1g59.pdb` contains a structure of tRNA bound to a protein. Having observed that the conformational spaces of protein backbones are highly restricted, the question is whether the same holds for RNA (and DNA). To investigate this, we try to predict the positions of the nucleoside connection point (N1 or N9, connected to the sugar moiety), using the positions of the Phosphorous atoms of the backbone. In the code in the block below, the file is read in and the positions of the phosphorous atoms and connecting atoms are extracted. These are ordered in the regressor matrix X and the regressand matrix Y:"
   ]
  },
  {
   "cell_type": "code",
   "execution_count": 107,
   "metadata": {},
   "outputs": [
    {
     "name": "stdout",
     "output_type": "stream",
     "text": [
      "(91, 6) (91, 3)\n"
     ]
    }
   ],
   "source": [
    "with open('1g59.pdb') as pdb:\n",
    "    atoms = [ \n",
    "        line for line in pdb \n",
    "        if (line.startswith('ATOM') and \n",
    "            line[21] == 'B' and \n",
    "            line[12:16] in (' P  ', ' N1 ', ' N9 '))\n",
    "    ]\n",
    "\n",
    "X = np.array([(a[30:38], a[38:46], a[46:54]) for a in atoms]).astype(float)\n",
    "Y = X[1:-3:2]\n",
    "X = X[::2]\n",
    "X = np.stack((X[:-2], X[1:-1], X[2:]), axis=1)\n",
    "X -= X[:, 1, :][:, np.newaxis, :]\n",
    "X = X[:, [0,2], :].reshape((-1, 6))\n",
    "\n",
    "print(X.shape, Y.shape)"
   ]
  },
  {
   "cell_type": "markdown",
   "metadata": {},
   "source": [
    "In the next block, implement the multivariate linear regression model (without using sklearn) and investigate the accuracy of the approach. Please note this is a rather 'wicked problem', as it has not been fully precooked ;)\n",
    "\n",
    "Consider and discuss the following aspects:\n",
    "\n",
    "* How accurate is the model?\n",
    "* How feasible is this approach to predict positions of atoms based only on the backbone of RNA/DNA?\n"
   ]
  },
  {
   "cell_type": "code",
   "execution_count": null,
   "metadata": {},
   "outputs": [],
   "source": []
  }
 ],
 "metadata": {
  "kernelspec": {
   "display_name": "Python 3",
   "language": "python",
   "name": "python3"
  },
  "language_info": {
   "codemirror_mode": {
    "name": "ipython",
    "version": 3
   },
   "file_extension": ".py",
   "mimetype": "text/x-python",
   "name": "python",
   "nbconvert_exporter": "python",
   "pygments_lexer": "ipython3",
   "version": "3.7.6"
  }
 },
 "nbformat": 4,
 "nbformat_minor": 2
}
