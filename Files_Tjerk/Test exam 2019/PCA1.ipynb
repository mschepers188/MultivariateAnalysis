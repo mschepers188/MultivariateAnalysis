{
 "cells": [
  {
   "cell_type": "markdown",
   "metadata": {},
   "source": [
    "## Assignment 1: Principal Component Analysis\n",
    "\n",
    "a. Read the data in from the file `alpha-helix-starts-4-5.dat` and remove rows that contain NA values (`dropna`). The delimiter is a space (delimiter=' ') and there is no header (header=None), but that is stuff assumed known. It may be a good idea to remove columns with only zeroes."
   ]
  },
  {
   "cell_type": "code",
   "execution_count": null,
   "metadata": {},
   "outputs": [],
   "source": []
  },
  {
   "cell_type": "markdown",
   "metadata": {},
   "source": [
    "The data file contains Cartesian X/Y/Z positions of carbon atoms that mark the beginning of alpha-helices, with five atoms before the helix and four atoms in it. The four atoms of the helix were used to align the structures, so they are all positioned in a consistent way. The structure ID from which the helix was extracted is in the first column, the second and third columns give chain ID and helix ID, respectively, and the fourth column shows a classification of the structure per amino acid.\n",
    "\n",
    "b. Explain why it is or is not necessary to normalize the data for principal component analysis. "
   ]
  },
  {
   "cell_type": "markdown",
   "metadata": {},
   "source": []
  },
  {
   "cell_type": "markdown",
   "metadata": {},
   "source": [
    "c. Perform principal component analysis"
   ]
  },
  {
   "cell_type": "code",
   "execution_count": null,
   "metadata": {},
   "outputs": [],
   "source": []
  },
  {
   "cell_type": "markdown",
   "metadata": {},
   "source": [
    "d. Plot the eigenvalues and discuss what the graph shows (and what that means)."
   ]
  },
  {
   "cell_type": "code",
   "execution_count": null,
   "metadata": {},
   "outputs": [],
   "source": []
  },
  {
   "cell_type": "markdown",
   "metadata": {},
   "source": []
  },
  {
   "cell_type": "markdown",
   "metadata": {},
   "source": [
    "e. Project the data onto the eigenvalues and make plots of the projections."
   ]
  },
  {
   "cell_type": "code",
   "execution_count": null,
   "metadata": {},
   "outputs": [],
   "source": []
  },
  {
   "cell_type": "markdown",
   "metadata": {},
   "source": [
    "f. Create a biplot by adding lines/arrows (you can use numbers to label the original variables)"
   ]
  },
  {
   "cell_type": "code",
   "execution_count": null,
   "metadata": {},
   "outputs": [],
   "source": []
  },
  {
   "cell_type": "markdown",
   "metadata": {},
   "source": [
    "g. Discuss what the plots from e/f show"
   ]
  },
  {
   "cell_type": "markdown",
   "metadata": {},
   "source": []
  },
  {
   "cell_type": "markdown",
   "metadata": {},
   "source": [
    "h. Explain what a principal component is in this context"
   ]
  },
  {
   "cell_type": "markdown",
   "metadata": {},
   "source": []
  },
  {
   "cell_type": "markdown",
   "metadata": {},
   "source": [
    "## Assignment 2: MultiDimensional Scaling (Principal Coordinate Analysis).\n",
    "\n",
    "Use the data from the same data file (`alpha-helix-starts-4-5.dat`).\n",
    "\n",
    "a. Make a selection of every 250th line from the full data table and construct a distance matrix (squared!) for this selection (If you don't know how, 1. these are Cartesian X/Y/Z, so the distance between two observations a and b is just sum((a - b)\\*\\*2, and 2. the matrix operations needed can be figured out by writing the equations in matrix form ... or you can use scipy functions)."
   ]
  },
  {
   "cell_type": "code",
   "execution_count": null,
   "metadata": {},
   "outputs": [],
   "source": []
  },
  {
   "cell_type": "markdown",
   "metadata": {},
   "source": [
    "b. Perform MDS/PCoA on the distance matrix"
   ]
  },
  {
   "cell_type": "code",
   "execution_count": null,
   "metadata": {},
   "outputs": [],
   "source": []
  },
  {
   "cell_type": "markdown",
   "metadata": {},
   "source": [
    "c. Plot the eigenvalues and discuss what the graph shows (and what that means)."
   ]
  },
  {
   "cell_type": "code",
   "execution_count": null,
   "metadata": {},
   "outputs": [],
   "source": []
  },
  {
   "cell_type": "markdown",
   "metadata": {},
   "source": []
  },
  {
   "cell_type": "markdown",
   "metadata": {},
   "source": [
    "d. Plot the principal coordinates obtained."
   ]
  },
  {
   "cell_type": "code",
   "execution_count": null,
   "metadata": {},
   "outputs": [],
   "source": []
  },
  {
   "cell_type": "markdown",
   "metadata": {},
   "source": [
    "e. Give an interpretation of what these principal coordinates are and what the plot shows (compare it with the eigenvector-projection plot)."
   ]
  },
  {
   "cell_type": "markdown",
   "metadata": {},
   "source": []
  },
  {
   "cell_type": "markdown",
   "metadata": {},
   "source": [
    "## Assignment 3: Multivariate Linear Regression\n",
    "\n",
    "If the previous assignment wasn't (yet) successful, read in the principal coordinates that were derived before from the file `pcoa.dat`. This file contains the values corresponding to every 250th line from the file `alpha-helix-starts-4-5.dat`.\n",
    "\n",
    "a. Perform a multivariate linear regression of the principal coordinates (regressand) against the original sample data (regressor). (This gives a coefficient matrix B, such that Y = XB + E)"
   ]
  },
  {
   "cell_type": "code",
   "execution_count": null,
   "metadata": {},
   "outputs": [],
   "source": []
  },
  {
   "cell_type": "markdown",
   "metadata": {},
   "source": [
    "c. Plot the data from the model against the original data and reflect on the correspondence."
   ]
  },
  {
   "cell_type": "code",
   "execution_count": null,
   "metadata": {},
   "outputs": [],
   "source": []
  },
  {
   "cell_type": "markdown",
   "metadata": {},
   "source": []
  },
  {
   "cell_type": "markdown",
   "metadata": {},
   "source": [
    "d. Calculate estimated principal coordinates for _all_ data from `alpha-helix-starts-4-5.dat` (by projecting on the coefficient matrix) and plot the estimated coordinates. "
   ]
  },
  {
   "cell_type": "code",
   "execution_count": null,
   "metadata": {},
   "outputs": [],
   "source": []
  },
  {
   "cell_type": "markdown",
   "metadata": {},
   "source": [
    "e. Compare the plots with the ones from PCA and explain the similarities/differences."
   ]
  },
  {
   "cell_type": "markdown",
   "metadata": {},
   "source": []
  }
 ],
 "metadata": {
  "kernelspec": {
   "display_name": "Python 3",
   "language": "python",
   "name": "python3"
  },
  "language_info": {
   "codemirror_mode": {
    "name": "ipython",
    "version": 3
   },
   "file_extension": ".py",
   "mimetype": "text/x-python",
   "name": "python",
   "nbconvert_exporter": "python",
   "pygments_lexer": "ipython3",
   "version": "3.6.8"
  }
 },
 "nbformat": 4,
 "nbformat_minor": 4
}
