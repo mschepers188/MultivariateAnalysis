{
 "cells": [
  {
   "cell_type": "markdown",
   "id": "99150c95",
   "metadata": {},
   "source": [
    "# MLR in Python\n",
    "Can be done with > 1 explanatory variable\n",
    "Problamatic if correlation is too strong between these variables"
   ]
  },
  {
   "cell_type": "code",
   "execution_count": 55,
   "id": "5d9f8a1d",
   "metadata": {},
   "outputs": [],
   "source": [
    "import pandas as pd\n",
    "import numpy as np"
   ]
  },
  {
   "cell_type": "code",
   "execution_count": 56,
   "id": "40c69224",
   "metadata": {},
   "outputs": [
    {
     "data": {
      "text/html": [
       "<div>\n",
       "<style scoped>\n",
       "    .dataframe tbody tr th:only-of-type {\n",
       "        vertical-align: middle;\n",
       "    }\n",
       "\n",
       "    .dataframe tbody tr th {\n",
       "        vertical-align: top;\n",
       "    }\n",
       "\n",
       "    .dataframe thead th {\n",
       "        text-align: right;\n",
       "    }\n",
       "</style>\n",
       "<table border=\"1\" class=\"dataframe\">\n",
       "  <thead>\n",
       "    <tr style=\"text-align: right;\">\n",
       "      <th></th>\n",
       "      <th>AT</th>\n",
       "      <th>V</th>\n",
       "      <th>AP</th>\n",
       "      <th>RH</th>\n",
       "      <th>PE</th>\n",
       "    </tr>\n",
       "  </thead>\n",
       "  <tbody>\n",
       "    <tr>\n",
       "      <th>0</th>\n",
       "      <td>14.96</td>\n",
       "      <td>41.76</td>\n",
       "      <td>1024.07</td>\n",
       "      <td>73.17</td>\n",
       "      <td>463.26</td>\n",
       "    </tr>\n",
       "    <tr>\n",
       "      <th>1</th>\n",
       "      <td>25.18</td>\n",
       "      <td>62.96</td>\n",
       "      <td>1020.04</td>\n",
       "      <td>59.08</td>\n",
       "      <td>444.37</td>\n",
       "    </tr>\n",
       "    <tr>\n",
       "      <th>2</th>\n",
       "      <td>5.11</td>\n",
       "      <td>39.40</td>\n",
       "      <td>1012.16</td>\n",
       "      <td>92.14</td>\n",
       "      <td>488.56</td>\n",
       "    </tr>\n",
       "    <tr>\n",
       "      <th>3</th>\n",
       "      <td>20.86</td>\n",
       "      <td>57.32</td>\n",
       "      <td>1010.24</td>\n",
       "      <td>76.64</td>\n",
       "      <td>446.48</td>\n",
       "    </tr>\n",
       "    <tr>\n",
       "      <th>4</th>\n",
       "      <td>10.82</td>\n",
       "      <td>37.50</td>\n",
       "      <td>1009.23</td>\n",
       "      <td>96.62</td>\n",
       "      <td>473.90</td>\n",
       "    </tr>\n",
       "  </tbody>\n",
       "</table>\n",
       "</div>"
      ],
      "text/plain": [
       "      AT      V       AP     RH      PE\n",
       "0  14.96  41.76  1024.07  73.17  463.26\n",
       "1  25.18  62.96  1020.04  59.08  444.37\n",
       "2   5.11  39.40  1012.16  92.14  488.56\n",
       "3  20.86  57.32  1010.24  76.64  446.48\n",
       "4  10.82  37.50  1009.23  96.62  473.90"
      ]
     },
     "execution_count": 56,
     "metadata": {},
     "output_type": "execute_result"
    }
   ],
   "source": [
    "data = pd.read_csv(\"CCPP/mlr.csv\", sep=\"\\t\")\n",
    "data.head()"
   ]
  },
  {
   "cell_type": "markdown",
   "id": "def0f673",
   "metadata": {},
   "source": [
    "# Define x and y"
   ]
  },
  {
   "cell_type": "code",
   "execution_count": 57,
   "id": "9389836c",
   "metadata": {},
   "outputs": [],
   "source": [
    "x=data.drop([\"PE\"], axis=1).values #independent varialbes\n",
    "y=data[\"PE\"].values #dependent variable"
   ]
  },
  {
   "cell_type": "code",
   "execution_count": null,
   "id": "def5f19b",
   "metadata": {},
   "outputs": [],
   "source": []
  },
  {
   "cell_type": "markdown",
   "id": "054afcd5",
   "metadata": {},
   "source": [
    "# Spit into training and test"
   ]
  },
  {
   "cell_type": "code",
   "execution_count": 58,
   "id": "b5a7924b",
   "metadata": {},
   "outputs": [],
   "source": [
    "from sklearn.model_selection import train_test_split"
   ]
  },
  {
   "cell_type": "code",
   "execution_count": 59,
   "id": "a4d80825",
   "metadata": {},
   "outputs": [],
   "source": [
    "x_train, x_test, y_train, y_test=train_test_split(x,y, test_size=0.3, random_state=0)"
   ]
  },
  {
   "cell_type": "markdown",
   "id": "cb65a956",
   "metadata": {},
   "source": [
    "# Train model and training set"
   ]
  },
  {
   "cell_type": "code",
   "execution_count": 60,
   "id": "a35713ee",
   "metadata": {},
   "outputs": [
    {
     "data": {
      "text/plain": [
       "LinearRegression()"
      ]
     },
     "execution_count": 60,
     "metadata": {},
     "output_type": "execute_result"
    }
   ],
   "source": [
    "from sklearn.linear_model import LinearRegression\n",
    "ml=LinearRegression()\n",
    "ml.fit(x_train, y_train)"
   ]
  },
  {
   "cell_type": "markdown",
   "id": "2826db69",
   "metadata": {},
   "source": [
    "# Predict"
   ]
  },
  {
   "cell_type": "code",
   "execution_count": 61,
   "id": "1243e234",
   "metadata": {},
   "outputs": [
    {
     "name": "stdout",
     "output_type": "stream",
     "text": [
      "[431.40245096 458.61474119 462.81967423 ... 432.47380825 436.16417243\n",
      " 439.00714594]\n"
     ]
    }
   ],
   "source": [
    "y_pred=ml.predict(x_test)\n",
    "print(y_pred)"
   ]
  },
  {
   "cell_type": "code",
   "execution_count": 63,
   "id": "5a919e26",
   "metadata": {},
   "outputs": [
    {
     "data": {
      "text/plain": [
       "array([467.34820092])"
      ]
     },
     "execution_count": 63,
     "metadata": {},
     "output_type": "execute_result"
    }
   ],
   "source": [
    "ml.predict([[14.96,41.76,1024.07,73.17]])"
   ]
  },
  {
   "cell_type": "markdown",
   "id": "9646b01f",
   "metadata": {},
   "source": [
    "# Evaluate"
   ]
  },
  {
   "cell_type": "code",
   "execution_count": 64,
   "id": "5f46bca3",
   "metadata": {},
   "outputs": [],
   "source": [
    "from sklearn.metrics import r2_score"
   ]
  },
  {
   "cell_type": "code",
   "execution_count": 65,
   "id": "2c98fbf7",
   "metadata": {},
   "outputs": [
    {
     "data": {
      "text/plain": [
       "0.9304112159477683"
      ]
     },
     "execution_count": 65,
     "metadata": {},
     "output_type": "execute_result"
    }
   ],
   "source": [
    "r2_score(y_test,y_pred)"
   ]
  },
  {
   "cell_type": "markdown",
   "id": "8e1b0525",
   "metadata": {},
   "source": [
    "# Visualise"
   ]
  },
  {
   "cell_type": "code",
   "execution_count": 66,
   "id": "36d3abdb",
   "metadata": {},
   "outputs": [],
   "source": [
    "import matplotlib.pyplot as plt"
   ]
  },
  {
   "cell_type": "code",
   "execution_count": 68,
   "id": "fdd12766",
   "metadata": {},
   "outputs": [
    {
     "data": {
      "text/plain": [
       "Text(0.5, 1.0, 'Actual vs Predicted')"
      ]
     },
     "execution_count": 68,
     "metadata": {},
     "output_type": "execute_result"
    },
    {
     "data": {
      "image/png": "[encoded data removed]",
      "text/plain": [
       "<Figure size 1080x720 with 1 Axes>"
      ]
     },
     "metadata": {
      "needs_background": "light"
     },
     "output_type": "display_data"
    }
   ],
   "source": [
    "plt.figure(figsize=(15,10))\n",
    "plt.scatter(y_test, y_pred)\n",
    "plt.xlabel(\"Actual\")\n",
    "plt.ylabel(\"Predicted\")\n",
    "plt.title(\"Actual vs Predicted\")"
   ]
  },
  {
   "cell_type": "markdown",
   "id": "3844a637",
   "metadata": {},
   "source": [
    "# Predicted Values"
   ]
  },
  {
   "cell_type": "code",
   "execution_count": 69,
   "id": "eb93815f",
   "metadata": {},
   "outputs": [
    {
     "data": {
      "text/html": [
       "<div>\n",
       "<style scoped>\n",
       "    .dataframe tbody tr th:only-of-type {\n",
       "        vertical-align: middle;\n",
       "    }\n",
       "\n",
       "    .dataframe tbody tr th {\n",
       "        vertical-align: top;\n",
       "    }\n",
       "\n",
       "    .dataframe thead th {\n",
       "        text-align: right;\n",
       "    }\n",
       "</style>\n",
       "<table border=\"1\" class=\"dataframe\">\n",
       "  <thead>\n",
       "    <tr style=\"text-align: right;\">\n",
       "      <th></th>\n",
       "      <th>Actual Value</th>\n",
       "      <th>Predicted Value</th>\n",
       "      <th>Difference</th>\n",
       "    </tr>\n",
       "  </thead>\n",
       "  <tbody>\n",
       "    <tr>\n",
       "      <th>0</th>\n",
       "      <td>431.23</td>\n",
       "      <td>431.402451</td>\n",
       "      <td>-0.172451</td>\n",
       "    </tr>\n",
       "    <tr>\n",
       "      <th>1</th>\n",
       "      <td>460.01</td>\n",
       "      <td>458.614741</td>\n",
       "      <td>1.395259</td>\n",
       "    </tr>\n",
       "    <tr>\n",
       "      <th>2</th>\n",
       "      <td>461.14</td>\n",
       "      <td>462.819674</td>\n",
       "      <td>-1.679674</td>\n",
       "    </tr>\n",
       "    <tr>\n",
       "      <th>3</th>\n",
       "      <td>445.90</td>\n",
       "      <td>448.601237</td>\n",
       "      <td>-2.701237</td>\n",
       "    </tr>\n",
       "    <tr>\n",
       "      <th>4</th>\n",
       "      <td>451.29</td>\n",
       "      <td>457.879479</td>\n",
       "      <td>-6.589479</td>\n",
       "    </tr>\n",
       "    <tr>\n",
       "      <th>5</th>\n",
       "      <td>432.68</td>\n",
       "      <td>429.676856</td>\n",
       "      <td>3.003144</td>\n",
       "    </tr>\n",
       "    <tr>\n",
       "      <th>6</th>\n",
       "      <td>477.50</td>\n",
       "      <td>473.017115</td>\n",
       "      <td>4.482885</td>\n",
       "    </tr>\n",
       "    <tr>\n",
       "      <th>7</th>\n",
       "      <td>459.68</td>\n",
       "      <td>456.532373</td>\n",
       "      <td>3.147627</td>\n",
       "    </tr>\n",
       "    <tr>\n",
       "      <th>8</th>\n",
       "      <td>477.50</td>\n",
       "      <td>474.342524</td>\n",
       "      <td>3.157476</td>\n",
       "    </tr>\n",
       "    <tr>\n",
       "      <th>9</th>\n",
       "      <td>444.99</td>\n",
       "      <td>446.364396</td>\n",
       "      <td>-1.374396</td>\n",
       "    </tr>\n",
       "    <tr>\n",
       "      <th>10</th>\n",
       "      <td>444.37</td>\n",
       "      <td>441.946411</td>\n",
       "      <td>2.423589</td>\n",
       "    </tr>\n",
       "    <tr>\n",
       "      <th>11</th>\n",
       "      <td>437.04</td>\n",
       "      <td>441.452599</td>\n",
       "      <td>-4.412599</td>\n",
       "    </tr>\n",
       "    <tr>\n",
       "      <th>12</th>\n",
       "      <td>442.34</td>\n",
       "      <td>444.746375</td>\n",
       "      <td>-2.406375</td>\n",
       "    </tr>\n",
       "    <tr>\n",
       "      <th>13</th>\n",
       "      <td>440.74</td>\n",
       "      <td>440.874598</td>\n",
       "      <td>-0.134598</td>\n",
       "    </tr>\n",
       "    <tr>\n",
       "      <th>14</th>\n",
       "      <td>436.55</td>\n",
       "      <td>438.374490</td>\n",
       "      <td>-1.824490</td>\n",
       "    </tr>\n",
       "    <tr>\n",
       "      <th>15</th>\n",
       "      <td>460.24</td>\n",
       "      <td>454.370315</td>\n",
       "      <td>5.869685</td>\n",
       "    </tr>\n",
       "    <tr>\n",
       "      <th>16</th>\n",
       "      <td>448.66</td>\n",
       "      <td>444.904201</td>\n",
       "      <td>3.755799</td>\n",
       "    </tr>\n",
       "    <tr>\n",
       "      <th>17</th>\n",
       "      <td>432.94</td>\n",
       "      <td>437.370808</td>\n",
       "      <td>-4.430808</td>\n",
       "    </tr>\n",
       "    <tr>\n",
       "      <th>18</th>\n",
       "      <td>452.82</td>\n",
       "      <td>451.306760</td>\n",
       "      <td>1.513240</td>\n",
       "    </tr>\n",
       "    <tr>\n",
       "      <th>19</th>\n",
       "      <td>432.20</td>\n",
       "      <td>427.453009</td>\n",
       "      <td>4.746991</td>\n",
       "    </tr>\n",
       "  </tbody>\n",
       "</table>\n",
       "</div>"
      ],
      "text/plain": [
       "    Actual Value  Predicted Value  Difference\n",
       "0         431.23       431.402451   -0.172451\n",
       "1         460.01       458.614741    1.395259\n",
       "2         461.14       462.819674   -1.679674\n",
       "3         445.90       448.601237   -2.701237\n",
       "4         451.29       457.879479   -6.589479\n",
       "5         432.68       429.676856    3.003144\n",
       "6         477.50       473.017115    4.482885\n",
       "7         459.68       456.532373    3.147627\n",
       "8         477.50       474.342524    3.157476\n",
       "9         444.99       446.364396   -1.374396\n",
       "10        444.37       441.946411    2.423589\n",
       "11        437.04       441.452599   -4.412599\n",
       "12        442.34       444.746375   -2.406375\n",
       "13        440.74       440.874598   -0.134598\n",
       "14        436.55       438.374490   -1.824490\n",
       "15        460.24       454.370315    5.869685\n",
       "16        448.66       444.904201    3.755799\n",
       "17        432.94       437.370808   -4.430808\n",
       "18        452.82       451.306760    1.513240\n",
       "19        432.20       427.453009    4.746991"
      ]
     },
     "execution_count": 69,
     "metadata": {},
     "output_type": "execute_result"
    }
   ],
   "source": [
    "pred_y_df=pd.DataFrame({\"Actual Value\":y_test, \"Predicted Value\":y_pred, \"Difference\": y_test-y_pred})\n",
    "pred_y_df.head(20)"
   ]
  }
 ],
 "metadata": {
  "kernelspec": {
   "display_name": "Python 3 (ipykernel)",
   "language": "python",
   "name": "python3"
  },
  "language_info": {
   "codemirror_mode": {
    "name": "ipython",
    "version": 3
   },
   "file_extension": ".py",
   "mimetype": "text/x-python",
   "name": "python",
   "nbconvert_exporter": "python",
   "pygments_lexer": "ipython3",
   "version": "3.8.7"
  }
 },
 "nbformat": 4,
 "nbformat_minor": 5
}
