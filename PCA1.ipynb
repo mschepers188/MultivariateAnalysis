{
 "cells": [
  {
   "cell_type": "markdown",
   "id": "confident-draft",
   "metadata": {},
   "source": [
    "# Principal Component Analysis \n",
    "\n",
    "## Example 1: a 2D monochrome image\n",
    "\n",
    "In this example, a monochrome image of an object is processed with principal component analysis to get a feel of what the method does and how the results are to be interpreted."
   ]
  },
  {
   "cell_type": "code",
   "execution_count": null,
   "id": "tribal-economics",
   "metadata": {},
   "outputs": [],
   "source": [
    "# ...\n",
    "from PIL import Image\n",
    "\n",
    "# ...\n",
    "import numpy as np\n",
    "\n",
    "# ...\n",
    "import matplotlib.pyplot as plt"
   ]
  },
  {
   "cell_type": "markdown",
   "id": "oriented-xerox",
   "metadata": {},
   "source": [
    "### Reading the data"
   ]
  },
  {
   "cell_type": "code",
   "execution_count": null,
   "id": "forward-dating",
   "metadata": {},
   "outputs": [],
   "source": [
    "giraf = Image.open('272-2722857_giraffe-svg-vector-file-giraffe-animal-drawing-hd.png')"
   ]
  },
  {
   "cell_type": "markdown",
   "id": "fifty-click",
   "metadata": {},
   "source": [
    "### Convert data to array"
   ]
  },
  {
   "cell_type": "code",
   "execution_count": null,
   "id": "brilliant-explosion",
   "metadata": {},
   "outputs": [],
   "source": [
    "X = np.array(np.where(np.array(giraf)[:, :, 0] < 100)).T"
   ]
  },
  {
   "cell_type": "code",
   "execution_count": null,
   "id": "unexpected-portfolio",
   "metadata": {},
   "outputs": [],
   "source": [
    "plt.scatter(*X.T, s=0.01)\n",
    "plt.show()"
   ]
  },
  {
   "cell_type": "markdown",
   "id": "impressed-private",
   "metadata": {},
   "source": [
    "### Centering the data"
   ]
  },
  {
   "cell_type": "code",
   "execution_count": null,
   "id": "eleven-flash",
   "metadata": {},
   "outputs": [],
   "source": [
    "mean = X.mean(axis=0) # Most of the time a good idea to keep the mean\n",
    "X = X - X.mean() # This casts the type to float (so you can't use -=)"
   ]
  },
  {
   "cell_type": "markdown",
   "id": "continuous-consciousness",
   "metadata": {},
   "source": [
    "### Calculating the covariance matrix"
   ]
  },
  {
   "cell_type": "code",
   "execution_count": null,
   "id": "north-renewal",
   "metadata": {},
   "outputs": [],
   "source": [
    "S = X.T @ X / (len(X) - 1)"
   ]
  },
  {
   "cell_type": "markdown",
   "id": "shaped-fitness",
   "metadata": {},
   "source": [
    "### Eigenvector decomposition"
   ]
  },
  {
   "cell_type": "code",
   "execution_count": null,
   "id": "conventional-publicity",
   "metadata": {},
   "outputs": [],
   "source": [
    "eigenvalues, eigenvectors = np.linalg.eig(S)\n",
    "\n",
    "order = eigenvalues.argsort()[::-1]\n",
    "eigenvalues = eigenvalues[order]\n",
    "eigenvectors = eigenvectors[:, order]"
   ]
  },
  {
   "cell_type": "code",
   "execution_count": null,
   "id": "rubber-mailman",
   "metadata": {},
   "outputs": [],
   "source": [
    "print('Eigenvalues:\\n', eigenvalues, '\\n')\n",
    "print('Eigenvectors:\\n', eigenvectors, '\\n')"
   ]
  },
  {
   "cell_type": "code",
   "execution_count": null,
   "id": "reflected-traffic",
   "metadata": {},
   "outputs": [],
   "source": [
    "print('Determinant of eigenvectors:\\n', np.linalg.det(eigenvectors), '\\n')\n",
    "print('Inner product of eigenvectors:\\n', np.round(eigenvectors @ eigenvectors.T, 3), '\\n')"
   ]
  },
  {
   "cell_type": "code",
   "execution_count": null,
   "id": "square-equivalent",
   "metadata": {},
   "outputs": [],
   "source": [
    "print('Sum of eigenvalues:\\n', sum(eigenvalues), '\\n')\n",
    "print('Sum of variances:\\n', sum(np.diagonal(S)), '\\n')"
   ]
  },
  {
   "cell_type": "code",
   "execution_count": null,
   "id": "patient-toilet",
   "metadata": {},
   "outputs": [],
   "source": [
    "print('Percentage of total variance per eigenvalue:\\n', eigenvalues * 100 / np.sum(eigenvalues), '\\n')\n",
    "print('Cumulative sum:\\n', eigenvalues.cumsum() * 100 / np.sum(eigenvalues), '\\n')"
   ]
  },
  {
   "cell_type": "code",
   "execution_count": null,
   "id": "analyzed-range",
   "metadata": {},
   "outputs": [],
   "source": [
    "plt.scatter(*X.T, s=0.01)\n",
    "for idx in 0, 1:\n",
    "    a, b = eigenvalues[idx]**0.5 * eigenvectors[:, idx]\n",
    "    plt.plot((-a, a), (-b, b), c='orange', linewidth=3)\n",
    "plt.show()"
   ]
  },
  {
   "cell_type": "markdown",
   "id": "functional-illness",
   "metadata": {},
   "source": [
    "### Scores (projections of data onto eigenvectors)"
   ]
  },
  {
   "cell_type": "code",
   "execution_count": null,
   "id": "expensive-isolation",
   "metadata": {},
   "outputs": [],
   "source": [
    "Z = X @ eigenvectors \n",
    "fig, ax = plt.subplots()\n",
    "plt.scatter(*Z.T, s=0.01)\n",
    "ax.set_aspect('equal')\n",
    "for idx in 0, 1:\n",
    "    a, b = eigenvalues[idx]**0.5 * np.eye(2)[idx]\n",
    "    plt.plot((-a, a), (-b, b), c='orange', linewidth=3)\n",
    "plt.show()"
   ]
  },
  {
   "cell_type": "markdown",
   "id": "lucky-gather",
   "metadata": {},
   "source": [
    "### Eigenvectors and rotation"
   ]
  },
  {
   "cell_type": "code",
   "execution_count": null,
   "id": "moral-continuity",
   "metadata": {},
   "outputs": [],
   "source": [
    "import random\n",
    "\n",
    "angle = random.random() * 2 * np.pi\n",
    "R = np.array(((np.cos(angle), -np.sin(angle)), (np.sin(angle), np.cos(angle))))\n",
    "\n",
    "Y = X @ R\n",
    "yvals, yvecs = np.linalg.eig(Y.T @ Y / (len(Y) - 1))\n",
    "order = yvals.argsort()[::-1]\n",
    "yvals = yvals[order]\n",
    "yvecs = yvecs[:, order]\n",
    "\n",
    "fig, ax = plt.subplots()\n",
    "ax.set_aspect('equal')\n",
    "plt.scatter(*Y.T, s=0.01)\n",
    "for idx in 0, 1:\n",
    "    a, b = yvals[idx]**0.5 * yvecs[:, idx]\n",
    "    plt.plot((-a, a), (-b, b), c='orange', linewidth=3)\n",
    "plt.show()\n",
    "\n",
    "ZY = Y @ yvecs\n",
    "fig, ax = plt.subplots()\n",
    "ax.set_aspect('equal')\n",
    "plt.scatter(*ZY.T, s=0.01)\n",
    "for idx in 0, 1:\n",
    "    a, b = yvals[idx]**0.5 * np.eye(2)[idx]\n",
    "    plt.plot((-a, a), (-b, b), c='orange', linewidth=3)\n",
    "plt.show()"
   ]
  },
  {
   "cell_type": "code",
   "execution_count": null,
   "id": "banner-newman",
   "metadata": {},
   "outputs": [],
   "source": [
    "print('Covariance matrix of rotated data:\\n', np.round(Z.T @ Z / (len(Z) - 1), 3))\n",
    "print('Eigenvalues:\\n', eigenvalues)"
   ]
  }
 ],
 "metadata": {
  "kernelspec": {
   "display_name": "Python 3",
   "language": "python",
   "name": "python3"
  },
  "language_info": {
   "codemirror_mode": {
    "name": "ipython",
    "version": 3
   },
   "file_extension": ".py",
   "mimetype": "text/x-python",
   "name": "python",
   "nbconvert_exporter": "python",
   "pygments_lexer": "ipython3",
   "version": "3.9.6"
  }
 },
 "nbformat": 4,
 "nbformat_minor": 5
}
